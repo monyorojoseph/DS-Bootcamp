{
 "cells": [
  {
   "cell_type": "markdown",
   "metadata": {},
   "source": [
    "\n",
    "#### Scraping jumia water dispenser data using beautiful soup, to show name of product, current price, old price and product discount"
   ]
  },
  {
   "cell_type": "code",
   "execution_count": 10,
   "metadata": {},
   "outputs": [
    {
     "name": "stdout",
     "output_type": "stream",
     "text": [
      "200\n"
     ]
    }
   ],
   "source": [
    "import requests\n",
    "from bs4 import BeautifulSoup\n",
    "\n",
    "jumia_water_dispenser = requests.get(\"https://www.jumia.co.ke/water-dispensers-coolers/\")\n",
    "print(jumia_water_dispenser.status_code)"
   ]
  },
  {
   "cell_type": "markdown",
   "metadata": {},
   "source": [
    "#### parse text from request"
   ]
  },
  {
   "cell_type": "code",
   "execution_count": 13,
   "metadata": {},
   "outputs": [],
   "source": [
    "soup = BeautifulSoup(jumia_water_dispenser.text, 'html.parser')"
   ]
  },
  {
   "cell_type": "markdown",
   "metadata": {},
   "source": [
    "#### find products"
   ]
  },
  {
   "cell_type": "code",
   "execution_count": 28,
   "metadata": {},
   "outputs": [],
   "source": [
    "products = soup.find_all('article', class_='prd')"
   ]
  },
  {
   "cell_type": "markdown",
   "metadata": {},
   "source": [
    "#### loop through products and display data"
   ]
  },
  {
   "cell_type": "code",
   "execution_count": 54,
   "metadata": {},
   "outputs": [
    {
     "name": "stdout",
     "output_type": "stream",
     "text": [
      "Product name \t Current price \t Old price \t Discount\n",
      "Generic Automatic Water Dispenser Pump Electric Rechargeable Pump \t KSh 635\n",
      "VON VADZ0002K, Portable Water Dispenser - Black \t KSh 1,195\n",
      "Generic Hand Press Pump For Dispenser \t KSh 690\n",
      "Nunix Hot & Normal Water Dispenser \t KSh 8,799\n",
      "Nunix Hot And Normal Standing Water Dispenser \t KSh 4,935\n",
      "Generic Electric Automatic Water Dispenser Pump Rechargeable White \t KSh 600\n",
      "Nunix Table Top Hot And Normal Water Dispenser \t KSh 2,845\n",
      "AILYONS 3 TAPS Water Dispenser Hot & Cold & Normal \t KSh 8,279\n",
      "Generic Automatic Water Dispenser Pump Rechargeable Best Water Pump \t KSh 625\n",
      "Generic Automatic Water Dispenser Pump \t KSh 750\n",
      "VELTON Hot And Normal Free Standing Water Dispenser \t KSh 5,349\n",
      "AILYONS 3 Taps - Hot & Cold & Normal Water Dispenser \t KSh 8,275\n",
      "Generic Automatic Water Dispenser-Smart Wireless Pump. \t KSh 850\n",
      "Generic Quality Hand Press Water Dispenser Manual Pump \t KSh 645\n",
      "Nunix K1 Table Top Hot And Normal Water Dispenser \t KSh 2,839\n",
      "Nunix Hot & Normal Water Dispenser - White \t KSh 4,948\n",
      "Generic Electric Water Bottle Pump \t KSh 1,500\n",
      "Nunix Table Top Normal Water Dispenser \t KSh 1,599\n",
      "Nunix Table Top Hot And Normal Water Dispenser \t KSh 2,799\n",
      "Nunix Table Top Normal Water Dispenser \t KSh 1,543\n",
      "Solstar WD84E-BKBSS: Hot, Cold & Normal Water Dispenser With 12Litres Cabinet - Black \t KSh 12,995\n",
      "Nunix A1 Bottom Load Hot And Normal Water Dispenser \t KSh 11,399\n",
      "Nexus NX-103 GR, Hot & Cold & Normal - Green, Dispenser Combo \t KSh 10,740\n",
      "AILYONS Hot And Normal Water Dispenser \t KSh 4,978\n",
      "Generic Automatic Drinking Water Dispensers USB Charged \t KSh 1,300\n",
      "Nunix K1 Table Top Hot And Normal Water Dispenser \t KSh 2,797\n",
      "AILYONS Hot And Warm Water Dispenser \t KSh 5,500\n",
      "Nunix Hot & Normal Water Dispenser - White \t KSh 5,199\n",
      "VON VADA2100K Water Dispenser Hot And Normal - Black \t KSh 8,995\n",
      "Nunix Hot And Normal Water Dispenser \t KSh 4,899\n",
      "Generic Water Dispenser Repment Push Type White Plastic Tap \t KSh 437\n",
      "Nunix Table Top Hot And Normal Water Dispenser \t KSh 2,799\n",
      "Rashnik Hot And Normal Water Dispenser \t KSh 4,790\n",
      "Generic Automatic Water Dispenser-Smart Wireless Pump \t KSh 900\n",
      "Nunix Hot & Cold & Normal 3 TAPS Water Dispenser \t KSh 9,600\n",
      "Nunix Table Top Water Dispenser With 2 Models To Choose From \t KSh 2,999 - KSh 3,999\n",
      "Nunix Hot And Cold Free Standing Water Dispenser \t KSh 2,999\n",
      "VELTON Hot And Normal Free Standing Water Dispenser \t KSh 7,800\n",
      "AILYONS 3 Taps - Hot & Cold & Normal Water Dispenser \t KSh 9,368\n",
      "Nunix Table Top Normal Water Dispenser \t KSh 1,545\n"
     ]
    }
   ],
   "source": [
    "print(\"Product name\", '\\t', \"Current price\", '\\t', \"Old price\", '\\t', \"Discount\")\n",
    "for product in products:\n",
    "    product_info = product.find(class_='info')\n",
    "    product_name = product_info.find(class_='name').get_text()\n",
    "    product_price = product_info.find(class_='prc').get_text()\n",
    "#     product_old_price = product_info.find(class_='old').get_text()\n",
    "#     product_discount = product_info.find(class_='bdg _dsct _sm').get_text()\n",
    "\n",
    "    print(product_name, '\\t', product_price)"
   ]
  },
  {
   "cell_type": "code",
   "execution_count": null,
   "metadata": {},
   "outputs": [],
   "source": []
  }
 ],
 "metadata": {
  "kernelspec": {
   "display_name": "Python 3 (ipykernel)",
   "language": "python",
   "name": "python3"
  },
  "language_info": {
   "codemirror_mode": {
    "name": "ipython",
    "version": 3
   },
   "file_extension": ".py",
   "mimetype": "text/x-python",
   "name": "python",
   "nbconvert_exporter": "python",
   "pygments_lexer": "ipython3",
   "version": "3.10.9"
  },
  "vscode": {
   "interpreter": {
    "hash": "83808363151904e57548a095902b51c9df38c78c6fa0b2f414a2db64078e35fd"
   }
  }
 },
 "nbformat": 4,
 "nbformat_minor": 2
}

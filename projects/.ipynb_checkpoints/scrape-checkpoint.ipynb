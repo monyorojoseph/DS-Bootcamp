{
 "cells": [
  {
   "cell_type": "markdown",
   "metadata": {},
   "source": [
    "\n",
    "#### Scraping jumia water dispenser data using beautiful soup, to show name of product, current price, old price and product discount"
   ]
  },
  {
   "cell_type": "code",
   "execution_count": 20,
   "metadata": {},
   "outputs": [
    {
     "name": "stdout",
     "output_type": "stream",
     "text": [
      "200\n"
     ]
    }
   ],
   "source": [
    "import requests\n",
    "import csv\n",
    "from bs4 import BeautifulSoup\n",
    "\n",
    "jumia_water_dispenser = requests.get(\"https://www.jumia.co.ke/water-dispensers-coolers/\")\n",
    "print(jumia_water_dispenser.status_code)"
   ]
  },
  {
   "cell_type": "markdown",
   "metadata": {},
   "source": [
    "#### parse text from request"
   ]
  },
  {
   "cell_type": "code",
   "execution_count": 21,
   "metadata": {},
   "outputs": [],
   "source": [
    "soup = BeautifulSoup(jumia_water_dispenser.text, 'html.parser')"
   ]
  },
  {
   "cell_type": "markdown",
   "metadata": {},
   "source": [
    "#### find products"
   ]
  },
  {
   "cell_type": "code",
   "execution_count": 24,
   "metadata": {},
   "outputs": [],
   "source": [
    "products = soup.find_all(class_='prd')"
   ]
  },
  {
   "cell_type": "markdown",
   "metadata": {},
   "source": [
    "#### loop through products and display data"
   ]
  },
  {
   "cell_type": "code",
   "execution_count": 25,
   "metadata": {},
   "outputs": [
    {
     "name": "stdout",
     "output_type": "stream",
     "text": [
      "Product name \t Current price \t Old price \t Discount\n"
     ]
    }
   ],
   "source": [
    "for product in products:\n",
    "    product_info = product.find(class_='info')    \n",
    "    product_name = product_info.find(class_='name').get_text()\n",
    "    product_price = product_info.find(class_='prc').get_text()\n",
    "    old = product_info.find(class_='old')\n",
    "    bdg_dsct_sm = product_info.find(class_='bdg _dsct _sm')\n",
    "    if old:        \n",
    "        product_old_price = old.get_text()\n",
    "    else:\n",
    "        product_old_price = 0\n",
    "    if bdg_dsct_sm:\n",
    "        product_discount = bdg_dsct_sm.get_text()\n",
    "    else:\n",
    "        product_discount = 0\n"
   ]
  },
  {
   "cell_type": "code",
   "execution_count": null,
   "metadata": {},
   "outputs": [],
   "source": []
  },
  {
   "cell_type": "code",
   "execution_count": null,
   "metadata": {},
   "outputs": [],
   "source": []
  }
 ],
 "metadata": {
  "kernelspec": {
   "display_name": "Python 3 (ipykernel)",
   "language": "python",
   "name": "python3"
  },
  "language_info": {
   "codemirror_mode": {
    "name": "ipython",
    "version": 3
   },
   "file_extension": ".py",
   "mimetype": "text/x-python",
   "name": "python",
   "nbconvert_exporter": "python",
   "pygments_lexer": "ipython3",
   "version": "3.10.9"
  },
  "vscode": {
   "interpreter": {
    "hash": "83808363151904e57548a095902b51c9df38c78c6fa0b2f414a2db64078e35fd"
   }
  }
 },
 "nbformat": 4,
 "nbformat_minor": 2
}

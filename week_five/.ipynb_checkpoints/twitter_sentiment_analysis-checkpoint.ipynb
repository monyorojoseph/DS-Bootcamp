{
 "cells": [
  {
   "cell_type": "code",
   "execution_count": null,
   "id": "67708320",
   "metadata": {},
   "outputs": [],
   "source": [
    "# load libraries\n",
    "import pandas as pd\n",
    "import numpy as np"
   ]
  },
  {
   "cell_type": "code",
   "execution_count": null,
   "id": "6ed36977",
   "metadata": {},
   "outputs": [],
   "source": [
    "# pd col maxwidth\n",
    "pd.set_option('display.max_colwidth',  None)"
   ]
  },
  {
   "cell_type": "code",
   "execution_count": null,
   "id": "7e3bea3b",
   "metadata": {},
   "outputs": [],
   "source": [
    "# laod data\n",
    "data = pd.read_csv('data/training.1600000.processed.noemoticon.csv',header=None, encoding = \"ISO-8859-1\")\n",
    "data.head()"
   ]
  },
  {
   "cell_type": "code",
   "execution_count": null,
   "id": "5d329b28",
   "metadata": {},
   "outputs": [],
   "source": [
    "# dropping irrelevant columns\n",
    "data = data.drop([0, 1, 2, 3, 4], axis=1)"
   ]
  },
  {
   "cell_type": "code",
   "execution_count": null,
   "id": "fb7442f8",
   "metadata": {},
   "outputs": [],
   "source": [
    "# renaming column\n",
    "data = data.rename(columns={5: \"text\"})"
   ]
  },
  {
   "cell_type": "markdown",
   "id": "eee1fb5c",
   "metadata": {},
   "source": [
    "### Pretrainig model for sentiment analysis"
   ]
  },
  {
   "cell_type": "code",
   "execution_count": null,
   "id": "79f73adc",
   "metadata": {},
   "outputs": [],
   "source": [
    "# import library\n",
    "from textblob import TextBlob\n",
    "# from nltk import word_tokenize\n",
    "\n",
    "# def remove_nonalpha(string):\n",
    "#     return \" \".join([ w for w in word_tokenize(string) if w.isalpha()])\n",
    "\n",
    "\n",
    "# def tweet_polarity(string):\n",
    "#     blob = TextBlob(remove_nonalpha(string))\n",
    "#     return blob.sentiment.polarity\n",
    "\n",
    "# def tweets_polarity(series):\n",
    "#     return series.apply(tweet_polarity)\n",
    "# data['Polarity'] = tweets_polarity(data.text.head(200))\n",
    "# data.head(10)"
   ]
  },
  {
   "cell_type": "code",
   "execution_count": null,
   "id": "190676cd",
   "metadata": {},
   "outputs": [],
   "source": [
    "# grouping to postive or negative\n",
    "# bins = (-1.0, 0, 1.0)\n",
    "# labels = ['Negative', 'Postive']\n",
    "# data = pd.cut(data['Polarity'], bins=bins, labels=labels)\n",
    "# data.head()"
   ]
  },
  {
   "cell_type": "code",
   "execution_count": null,
   "id": "eb3940a8",
   "metadata": {},
   "outputs": [],
   "source": []
  }
 ],
 "metadata": {
  "kernelspec": {
   "display_name": "Python 3 (ipykernel)",
   "language": "python",
   "name": "python3"
  },
  "language_info": {
   "codemirror_mode": {
    "name": "ipython",
    "version": 3
   },
   "file_extension": ".py",
   "mimetype": "text/x-python",
   "name": "python",
   "nbconvert_exporter": "python",
   "pygments_lexer": "ipython3",
   "version": "3.10.9"
  }
 },
 "nbformat": 4,
 "nbformat_minor": 5
}

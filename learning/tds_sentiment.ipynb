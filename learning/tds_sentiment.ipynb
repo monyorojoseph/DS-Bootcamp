{
 "cells": [
  {
   "cell_type": "markdown",
   "id": "bcc70997",
   "metadata": {},
   "source": [
    "\n",
    "### Learn how to  use NLTK"
   ]
  },
  {
   "cell_type": "code",
   "execution_count": 1,
   "id": "76a37842",
   "metadata": {},
   "outputs": [],
   "source": [
    "# load required lbraries\n",
    "import pandas as pd\n",
    "import numpy as np\n",
    "import nltk"
   ]
  },
  {
   "cell_type": "code",
   "execution_count": 2,
   "id": "bda203dd",
   "metadata": {},
   "outputs": [],
   "source": [
    "# making width of the column viewable\n",
    "pd.set_option('display.max_colwidth', None)"
   ]
  },
  {
   "cell_type": "code",
   "execution_count": 3,
   "id": "e86fac6d",
   "metadata": {},
   "outputs": [
    {
     "data": {
      "text/html": [
       "<div>\n",
       "<style scoped>\n",
       "    .dataframe tbody tr th:only-of-type {\n",
       "        vertical-align: middle;\n",
       "    }\n",
       "\n",
       "    .dataframe tbody tr th {\n",
       "        vertical-align: top;\n",
       "    }\n",
       "\n",
       "    .dataframe thead th {\n",
       "        text-align: right;\n",
       "    }\n",
       "</style>\n",
       "<table border=\"1\" class=\"dataframe\">\n",
       "  <thead>\n",
       "    <tr style=\"text-align: right;\">\n",
       "      <th></th>\n",
       "      <th>text</th>\n",
       "      <th>label</th>\n",
       "    </tr>\n",
       "  </thead>\n",
       "  <tbody>\n",
       "    <tr>\n",
       "      <th>0</th>\n",
       "      <td>A very, very, very slow-moving, aimless movie about a distressed, drifting young man.</td>\n",
       "      <td>0</td>\n",
       "    </tr>\n",
       "    <tr>\n",
       "      <th>1</th>\n",
       "      <td>Not sure who was more lost - the flat characters or the audience, nearly half of whom walked out.</td>\n",
       "      <td>0</td>\n",
       "    </tr>\n",
       "    <tr>\n",
       "      <th>2</th>\n",
       "      <td>Attempting artiness with black &amp; white and clever camera angles, the movie disappointed - became even more ridiculous - as the acting was poor and the plot and lines almost non-existent.</td>\n",
       "      <td>0</td>\n",
       "    </tr>\n",
       "    <tr>\n",
       "      <th>3</th>\n",
       "      <td>Very little music or anything to speak of.</td>\n",
       "      <td>0</td>\n",
       "    </tr>\n",
       "    <tr>\n",
       "      <th>4</th>\n",
       "      <td>The best scene in the movie was when Gerardo is trying to find a song that keeps running through his head.</td>\n",
       "      <td>1</td>\n",
       "    </tr>\n",
       "  </tbody>\n",
       "</table>\n",
       "</div>"
      ],
      "text/plain": [
       "                                                                                                                                                                                           text  \\\n",
       "0                                                                                                       A very, very, very slow-moving, aimless movie about a distressed, drifting young man.     \n",
       "1                                                                                           Not sure who was more lost - the flat characters or the audience, nearly half of whom walked out.     \n",
       "2  Attempting artiness with black & white and clever camera angles, the movie disappointed - became even more ridiculous - as the acting was poor and the plot and lines almost non-existent.     \n",
       "3                                                                                                                                                  Very little music or anything to speak of.     \n",
       "4                                                                                  The best scene in the movie was when Gerardo is trying to find a song that keeps running through his head.     \n",
       "\n",
       "   label  \n",
       "0      0  \n",
       "1      0  \n",
       "2      0  \n",
       "3      0  \n",
       "4      1  "
      ]
     },
     "execution_count": 3,
     "metadata": {},
     "output_type": "execute_result"
    }
   ],
   "source": [
    "# load data\n",
    "data = pd.read_csv('data/imdb_labelled.csv')\n",
    "data.head()"
   ]
  },
  {
   "cell_type": "code",
   "execution_count": 4,
   "id": "604ab530",
   "metadata": {},
   "outputs": [
    {
     "data": {
      "text/plain": [
       "1    386\n",
       "0    362\n",
       "Name: label, dtype: int64"
      ]
     },
     "execution_count": 4,
     "metadata": {},
     "output_type": "execute_result"
    }
   ],
   "source": [
    "data['label'].value_counts()"
   ]
  },
  {
   "cell_type": "code",
   "execution_count": 5,
   "id": "f9b5c374",
   "metadata": {},
   "outputs": [
    {
     "data": {
      "text/plain": [
       "'A very, very, very slow-moving, aimless movie about a distressed, drifting young man.  '"
      ]
     },
     "execution_count": 5,
     "metadata": {},
     "output_type": "execute_result"
    }
   ],
   "source": [
    "sample = data.text[0]\n",
    "sample"
   ]
  },
  {
   "cell_type": "markdown",
   "id": "d7f85efc",
   "metadata": {},
   "source": [
    "### Tokens and Bigrams"
   ]
  },
  {
   "cell_type": "code",
   "execution_count": 6,
   "id": "839d02e8",
   "metadata": {},
   "outputs": [
    {
     "data": {
      "text/plain": [
       "['A', 'very', ',', 'very', ',', 'very', 'slow-moving', ',', 'aimless', 'movie']"
      ]
     },
     "execution_count": 6,
     "metadata": {},
     "output_type": "execute_result"
    }
   ],
   "source": [
    "# import package\n",
    "from nltk import word_tokenize\n",
    "\n",
    "# tokenize the sample\n",
    "sample_tokens = word_tokenize(sample)\n",
    "sample_tokens[:10]"
   ]
  },
  {
   "cell_type": "markdown",
   "id": "1f26a1fa",
   "metadata": {},
   "source": [
    "### Creating a list of Bigrams"
   ]
  },
  {
   "cell_type": "code",
   "execution_count": 7,
   "id": "13b67c76",
   "metadata": {},
   "outputs": [
    {
     "data": {
      "text/plain": [
       "[('A', 'very'),\n",
       " ('very', ','),\n",
       " (',', 'very'),\n",
       " ('very', ','),\n",
       " (',', 'very'),\n",
       " ('very', 'slow-moving'),\n",
       " ('slow-moving', ','),\n",
       " (',', 'aimless'),\n",
       " ('aimless', 'movie'),\n",
       " ('movie', 'about')]"
      ]
     },
     "execution_count": 7,
     "metadata": {},
     "output_type": "execute_result"
    }
   ],
   "source": [
    "from nltk import bigrams\n",
    "\n",
    "# bigrams of the sample\n",
    "sample_bigragrams = list(bigrams(sample_tokens))\n",
    "sample_bigragrams[:10]"
   ]
  },
  {
   "cell_type": "markdown",
   "id": "b2a58103",
   "metadata": {},
   "source": [
    "### Frequency Distribution"
   ]
  },
  {
   "cell_type": "code",
   "execution_count": 8,
   "id": "49b665cd",
   "metadata": {},
   "outputs": [
    {
     "data": {
      "text/plain": [
       "[(',', 4),\n",
       " ('very', 3),\n",
       " ('A', 1),\n",
       " ('slow-moving', 1),\n",
       " ('aimless', 1),\n",
       " ('movie', 1),\n",
       " ('about', 1),\n",
       " ('a', 1),\n",
       " ('distressed', 1),\n",
       " ('drifting', 1)]"
      ]
     },
     "execution_count": 8,
     "metadata": {},
     "output_type": "execute_result"
    }
   ],
   "source": [
    "from nltk import FreqDist\n",
    "\n",
    "sample_fd = FreqDist(sample_tokens)\n",
    "sample_fd.most_common(10)"
   ]
  },
  {
   "cell_type": "code",
   "execution_count": 9,
   "id": "4ebe4e54",
   "metadata": {},
   "outputs": [
    {
     "data": {
      "text/plain": [
       "[('the', 2),\n",
       " ('Not', 1),\n",
       " ('sure', 1),\n",
       " ('who', 1),\n",
       " ('was', 1),\n",
       " ('more', 1),\n",
       " ('lost', 1),\n",
       " ('-', 1),\n",
       " ('flat', 1),\n",
       " ('characters', 1)]"
      ]
     },
     "execution_count": 9,
     "metadata": {},
     "output_type": "execute_result"
    }
   ],
   "source": [
    "# create a function to accept a text and n nad returns top most common tokens\n",
    "def text_n(text, n):\n",
    "    # get text tokens/unigrams     \n",
    "    tokenize = word_tokenize(text)    \n",
    "    # get frequency distribution for the unigrams\n",
    "    fd = FreqDist(tokenize)\n",
    "    # return the top n most common unigrams\n",
    "    return fd.most_common(n)\n",
    "\n",
    "# try sample\n",
    "text_n(data.text[1], 10)"
   ]
  },
  {
   "cell_type": "markdown",
   "id": "9e28ce21",
   "metadata": {},
   "source": [
    "### Document Term Matrix (DTM)"
   ]
  },
  {
   "cell_type": "code",
   "execution_count": 10,
   "id": "10fb6892",
   "metadata": {},
   "outputs": [
    {
     "data": {
      "text/html": [
       "<div>\n",
       "<style scoped>\n",
       "    .dataframe tbody tr th:only-of-type {\n",
       "        vertical-align: middle;\n",
       "    }\n",
       "\n",
       "    .dataframe tbody tr th {\n",
       "        vertical-align: top;\n",
       "    }\n",
       "\n",
       "    .dataframe thead th {\n",
       "        text-align: right;\n",
       "    }\n",
       "</style>\n",
       "<table border=\"1\" class=\"dataframe\">\n",
       "  <thead>\n",
       "    <tr style=\"text-align: right;\">\n",
       "      <th></th>\n",
       "      <th>about</th>\n",
       "      <th>acting</th>\n",
       "      <th>aimless</th>\n",
       "      <th>almost</th>\n",
       "      <th>and</th>\n",
       "      <th>angles</th>\n",
       "      <th>anything</th>\n",
       "      <th>artiness</th>\n",
       "      <th>as</th>\n",
       "      <th>attempting</th>\n",
       "      <th>...</th>\n",
       "      <th>trying</th>\n",
       "      <th>very</th>\n",
       "      <th>walked</th>\n",
       "      <th>was</th>\n",
       "      <th>when</th>\n",
       "      <th>white</th>\n",
       "      <th>who</th>\n",
       "      <th>whom</th>\n",
       "      <th>with</th>\n",
       "      <th>young</th>\n",
       "    </tr>\n",
       "  </thead>\n",
       "  <tbody>\n",
       "    <tr>\n",
       "      <th>0</th>\n",
       "      <td>1</td>\n",
       "      <td>0</td>\n",
       "      <td>1</td>\n",
       "      <td>0</td>\n",
       "      <td>0</td>\n",
       "      <td>0</td>\n",
       "      <td>0</td>\n",
       "      <td>0</td>\n",
       "      <td>0</td>\n",
       "      <td>0</td>\n",
       "      <td>...</td>\n",
       "      <td>0</td>\n",
       "      <td>3</td>\n",
       "      <td>0</td>\n",
       "      <td>0</td>\n",
       "      <td>0</td>\n",
       "      <td>0</td>\n",
       "      <td>0</td>\n",
       "      <td>0</td>\n",
       "      <td>0</td>\n",
       "      <td>1</td>\n",
       "    </tr>\n",
       "    <tr>\n",
       "      <th>1</th>\n",
       "      <td>0</td>\n",
       "      <td>0</td>\n",
       "      <td>0</td>\n",
       "      <td>0</td>\n",
       "      <td>0</td>\n",
       "      <td>0</td>\n",
       "      <td>0</td>\n",
       "      <td>0</td>\n",
       "      <td>0</td>\n",
       "      <td>0</td>\n",
       "      <td>...</td>\n",
       "      <td>0</td>\n",
       "      <td>0</td>\n",
       "      <td>1</td>\n",
       "      <td>1</td>\n",
       "      <td>0</td>\n",
       "      <td>0</td>\n",
       "      <td>1</td>\n",
       "      <td>1</td>\n",
       "      <td>0</td>\n",
       "      <td>0</td>\n",
       "    </tr>\n",
       "    <tr>\n",
       "      <th>2</th>\n",
       "      <td>0</td>\n",
       "      <td>1</td>\n",
       "      <td>0</td>\n",
       "      <td>1</td>\n",
       "      <td>3</td>\n",
       "      <td>1</td>\n",
       "      <td>0</td>\n",
       "      <td>1</td>\n",
       "      <td>1</td>\n",
       "      <td>1</td>\n",
       "      <td>...</td>\n",
       "      <td>0</td>\n",
       "      <td>0</td>\n",
       "      <td>0</td>\n",
       "      <td>1</td>\n",
       "      <td>0</td>\n",
       "      <td>1</td>\n",
       "      <td>0</td>\n",
       "      <td>0</td>\n",
       "      <td>1</td>\n",
       "      <td>0</td>\n",
       "    </tr>\n",
       "    <tr>\n",
       "      <th>3</th>\n",
       "      <td>0</td>\n",
       "      <td>0</td>\n",
       "      <td>0</td>\n",
       "      <td>0</td>\n",
       "      <td>0</td>\n",
       "      <td>0</td>\n",
       "      <td>1</td>\n",
       "      <td>0</td>\n",
       "      <td>0</td>\n",
       "      <td>0</td>\n",
       "      <td>...</td>\n",
       "      <td>0</td>\n",
       "      <td>1</td>\n",
       "      <td>0</td>\n",
       "      <td>0</td>\n",
       "      <td>0</td>\n",
       "      <td>0</td>\n",
       "      <td>0</td>\n",
       "      <td>0</td>\n",
       "      <td>0</td>\n",
       "      <td>0</td>\n",
       "    </tr>\n",
       "    <tr>\n",
       "      <th>4</th>\n",
       "      <td>0</td>\n",
       "      <td>0</td>\n",
       "      <td>0</td>\n",
       "      <td>0</td>\n",
       "      <td>0</td>\n",
       "      <td>0</td>\n",
       "      <td>0</td>\n",
       "      <td>0</td>\n",
       "      <td>0</td>\n",
       "      <td>0</td>\n",
       "      <td>...</td>\n",
       "      <td>1</td>\n",
       "      <td>0</td>\n",
       "      <td>0</td>\n",
       "      <td>1</td>\n",
       "      <td>1</td>\n",
       "      <td>0</td>\n",
       "      <td>0</td>\n",
       "      <td>0</td>\n",
       "      <td>0</td>\n",
       "      <td>0</td>\n",
       "    </tr>\n",
       "  </tbody>\n",
       "</table>\n",
       "<p>5 rows × 68 columns</p>\n",
       "</div>"
      ],
      "text/plain": [
       "   about  acting  aimless  almost  and  angles  anything  artiness  as  \\\n",
       "0      1       0        1       0    0       0         0         0   0   \n",
       "1      0       0        0       0    0       0         0         0   0   \n",
       "2      0       1        0       1    3       1         0         1   1   \n",
       "3      0       0        0       0    0       0         1         0   0   \n",
       "4      0       0        0       0    0       0         0         0   0   \n",
       "\n",
       "   attempting  ...  trying  very  walked  was  when  white  who  whom  with  \\\n",
       "0           0  ...       0     3       0    0     0      0    0     0     0   \n",
       "1           0  ...       0     0       1    1     0      0    1     1     0   \n",
       "2           1  ...       0     0       0    1     0      1    0     0     1   \n",
       "3           0  ...       0     1       0    0     0      0    0     0     0   \n",
       "4           0  ...       1     0       0    1     1      0    0     0     0   \n",
       "\n",
       "   young  \n",
       "0      1  \n",
       "1      0  \n",
       "2      0  \n",
       "3      0  \n",
       "4      0  \n",
       "\n",
       "[5 rows x 68 columns]"
      ]
     },
     "execution_count": 10,
     "metadata": {},
     "output_type": "execute_result"
    }
   ],
   "source": [
    "# rep the frequency of terms that occur in a collection of documents\n",
    "# create a dtm function \n",
    "# import package\n",
    "from sklearn.feature_extraction.text import CountVectorizer\n",
    "\n",
    "def create_dtm(series):\n",
    "    # create an instance of countvectorizer\n",
    "    cv = CountVectorizer()\n",
    "    # create a dtm from provided series\n",
    "    dtm = cv.fit_transform(series)\n",
    "    # convert sparse array to dense array\n",
    "    dtm = dtm.todense()\n",
    "    # get column names\n",
    "    features = cv.get_feature_names_out()\n",
    "    # create df\n",
    "    dtm_df = pd.DataFrame(dtm, columns=features)\n",
    "    \n",
    "    return dtm_df\n",
    "# try on sample with 5 rows\n",
    "create_dtm(data.text.head())"
   ]
  },
  {
   "cell_type": "markdown",
   "id": "b6f08564",
   "metadata": {},
   "source": [
    "### Feature Importance"
   ]
  },
  {
   "cell_type": "code",
   "execution_count": 11,
   "id": "0237420b",
   "metadata": {},
   "outputs": [
    {
     "data": {
      "text/html": [
       "<div>\n",
       "<style scoped>\n",
       "    .dataframe tbody tr th:only-of-type {\n",
       "        vertical-align: middle;\n",
       "    }\n",
       "\n",
       "    .dataframe tbody tr th {\n",
       "        vertical-align: top;\n",
       "    }\n",
       "\n",
       "    .dataframe thead th {\n",
       "        text-align: right;\n",
       "    }\n",
       "</style>\n",
       "<table border=\"1\" class=\"dataframe\">\n",
       "  <thead>\n",
       "    <tr style=\"text-align: right;\">\n",
       "      <th></th>\n",
       "      <th>Tokens</th>\n",
       "      <th>Coefficients</th>\n",
       "    </tr>\n",
       "  </thead>\n",
       "  <tbody>\n",
       "    <tr>\n",
       "      <th>1567</th>\n",
       "      <td>liked</td>\n",
       "      <td>1.286747</td>\n",
       "    </tr>\n",
       "    <tr>\n",
       "      <th>2997</th>\n",
       "      <td>wonderful</td>\n",
       "      <td>1.242158</td>\n",
       "    </tr>\n",
       "    <tr>\n",
       "      <th>1104</th>\n",
       "      <td>funny</td>\n",
       "      <td>1.112821</td>\n",
       "    </tr>\n",
       "    <tr>\n",
       "      <th>1182</th>\n",
       "      <td>great</td>\n",
       "      <td>1.068772</td>\n",
       "    </tr>\n",
       "    <tr>\n",
       "      <th>2949</th>\n",
       "      <td>well</td>\n",
       "      <td>1.043139</td>\n",
       "    </tr>\n",
       "    <tr>\n",
       "      <th>246</th>\n",
       "      <td>beautiful</td>\n",
       "      <td>1.042833</td>\n",
       "    </tr>\n",
       "    <tr>\n",
       "      <th>0</th>\n",
       "      <td>10</td>\n",
       "      <td>1.035405</td>\n",
       "    </tr>\n",
       "    <tr>\n",
       "      <th>344</th>\n",
       "      <td>brilliant</td>\n",
       "      <td>1.014080</td>\n",
       "    </tr>\n",
       "    <tr>\n",
       "      <th>908</th>\n",
       "      <td>excellent</td>\n",
       "      <td>1.009914</td>\n",
       "    </tr>\n",
       "    <tr>\n",
       "      <th>2203</th>\n",
       "      <td>right</td>\n",
       "      <td>0.985806</td>\n",
       "    </tr>\n",
       "  </tbody>\n",
       "</table>\n",
       "</div>"
      ],
      "text/plain": [
       "         Tokens  Coefficients\n",
       "1567      liked      1.286747\n",
       "2997  wonderful      1.242158\n",
       "1104      funny      1.112821\n",
       "1182      great      1.068772\n",
       "2949       well      1.043139\n",
       "246   beautiful      1.042833\n",
       "0            10      1.035405\n",
       "344   brilliant      1.014080\n",
       "908   excellent      1.009914\n",
       "2203      right      0.985806"
      ]
     },
     "execution_count": 11,
     "metadata": {},
     "output_type": "execute_result"
    }
   ],
   "source": [
    "# define a function named top_n_tokens\n",
    "# import logistic regression\n",
    "from sklearn.linear_model import LogisticRegression\n",
    "\n",
    "def top_n_tokens(text, sentiment, n):\n",
    "    # create instance of the class\n",
    "    lrg = LogisticRegression(solver = 'lbfgs', max_iter = 2500, random_state = 1234)\n",
    "    cv = CountVectorizer()\n",
    "    # create dtm\n",
    "    dtm = cv.fit_transform(text)\n",
    "    # fit logistic regression model\n",
    "    lrg.fit(dtm , sentiment)\n",
    "    # get the coefficient\n",
    "    coefs = lrg.coef_[0]\n",
    "    # create the feature / column names\n",
    "    features = cv.get_feature_names_out()\n",
    "    # create a dataframe\n",
    "    df = pd.DataFrame({\"Tokens\": features, \"Coefficients\": coefs})\n",
    "    \n",
    "    # return the largest n\n",
    "    return df.nlargest(n, 'Coefficients')\n",
    "\n",
    "\n",
    "# try with sample\n",
    "top_n_tokens(data.text, data.label, 10)"
   ]
  },
  {
   "cell_type": "code",
   "execution_count": 12,
   "id": "305853c9",
   "metadata": {},
   "outputs": [
    {
     "data": {
      "text/html": [
       "<div>\n",
       "<style scoped>\n",
       "    .dataframe tbody tr th:only-of-type {\n",
       "        vertical-align: middle;\n",
       "    }\n",
       "\n",
       "    .dataframe tbody tr th {\n",
       "        vertical-align: top;\n",
       "    }\n",
       "\n",
       "    .dataframe thead th {\n",
       "        text-align: right;\n",
       "    }\n",
       "</style>\n",
       "<table border=\"1\" class=\"dataframe\">\n",
       "  <thead>\n",
       "    <tr style=\"text-align: right;\">\n",
       "      <th></th>\n",
       "      <th>Tokens</th>\n",
       "      <th>Coefficients</th>\n",
       "    </tr>\n",
       "  </thead>\n",
       "  <tbody>\n",
       "    <tr>\n",
       "      <th>222</th>\n",
       "      <td>bad</td>\n",
       "      <td>-1.872751</td>\n",
       "    </tr>\n",
       "    <tr>\n",
       "      <th>211</th>\n",
       "      <td>awful</td>\n",
       "      <td>-1.334554</td>\n",
       "    </tr>\n",
       "    <tr>\n",
       "      <th>2530</th>\n",
       "      <td>stupid</td>\n",
       "      <td>-1.175416</td>\n",
       "    </tr>\n",
       "    <tr>\n",
       "      <th>441</th>\n",
       "      <td>cheap</td>\n",
       "      <td>-1.139512</td>\n",
       "    </tr>\n",
       "    <tr>\n",
       "      <th>1802</th>\n",
       "      <td>no</td>\n",
       "      <td>-1.137234</td>\n",
       "    </tr>\n",
       "    <tr>\n",
       "      <th>893</th>\n",
       "      <td>even</td>\n",
       "      <td>-1.091436</td>\n",
       "    </tr>\n",
       "    <tr>\n",
       "      <th>3017</th>\n",
       "      <td>would</td>\n",
       "      <td>-1.047931</td>\n",
       "    </tr>\n",
       "    <tr>\n",
       "      <th>3012</th>\n",
       "      <td>worst</td>\n",
       "      <td>-1.039231</td>\n",
       "    </tr>\n",
       "    <tr>\n",
       "      <th>2923</th>\n",
       "      <td>waste</td>\n",
       "      <td>-1.038206</td>\n",
       "    </tr>\n",
       "    <tr>\n",
       "      <th>1819</th>\n",
       "      <td>nothing</td>\n",
       "      <td>-0.973472</td>\n",
       "    </tr>\n",
       "  </tbody>\n",
       "</table>\n",
       "</div>"
      ],
      "text/plain": [
       "       Tokens  Coefficients\n",
       "222       bad     -1.872751\n",
       "211     awful     -1.334554\n",
       "2530   stupid     -1.175416\n",
       "441     cheap     -1.139512\n",
       "1802       no     -1.137234\n",
       "893      even     -1.091436\n",
       "3017    would     -1.047931\n",
       "3012    worst     -1.039231\n",
       "2923    waste     -1.038206\n",
       "1819  nothing     -0.973472"
      ]
     },
     "execution_count": 12,
     "metadata": {},
     "output_type": "execute_result"
    }
   ],
   "source": [
    "# smallest coefficeint\n",
    "def top_n_tokens(text, sentiment, n):\n",
    "    # create instance of the class\n",
    "    lrg = LogisticRegression(solver = 'lbfgs', max_iter = 2500, random_state = 1234)\n",
    "    cv = CountVectorizer()\n",
    "    # create dtm\n",
    "    dtm = cv.fit_transform(text)\n",
    "    # fit logistic regression model\n",
    "    lrg.fit(dtm , sentiment)\n",
    "    # get the coefficient\n",
    "    coefs = lrg.coef_[0]\n",
    "    # create the feature / column names\n",
    "    features = cv.get_feature_names_out()\n",
    "    # create a dataframe\n",
    "    df = pd.DataFrame({\"Tokens\": features, \"Coefficients\": coefs})\n",
    "    \n",
    "    # return the largest n\n",
    "    return df.nsmallest(n, 'Coefficients')\n",
    "\n",
    "\n",
    "# try with sample\n",
    "top_n_tokens(data.text, data.label, 10)"
   ]
  },
  {
   "cell_type": "markdown",
   "id": "df336fb3",
   "metadata": {},
   "source": [
    "### Pre-trained ---- TextBlob"
   ]
  },
  {
   "cell_type": "code",
   "execution_count": 15,
   "id": "80db2bf0",
   "metadata": {},
   "outputs": [
    {
     "name": "stdout",
     "output_type": "stream",
     "text": [
      "Polarity is 0.18 and Subjectivity is 0.4.\n"
     ]
    }
   ],
   "source": [
    "# define function called polarity_subjectivity\n",
    "# import Textblob\n",
    "from textblob import TextBlob\n",
    "\n",
    "def polarity_subjectivity(text=sample, print_results=False):\n",
    "    # create an instance of Textblob\n",
    "    tb = TextBlob(text)\n",
    "    # if condition is met print results otherwise return the tuple\n",
    "    if print_results:\n",
    "        print(f\"Polarity is {round(tb.sentiment[0], 2)} and Subjectivity is {round(tb.sentiment[1], 2)}.\")\n",
    "    else:\n",
    "        return (tb.sentiment[0], tb.sentiment[1])\n",
    "\n",
    "# try with sample\n",
    "polarity_subjectivity(sample, print_results=True)"
   ]
  },
  {
   "cell_type": "code",
   "execution_count": 16,
   "id": "ff78cab2",
   "metadata": {},
   "outputs": [
    {
     "data": {
      "text/plain": [
       "0    18\n",
       "1    21\n",
       "2    33\n",
       "3     9\n",
       "4    22\n",
       "5    27\n",
       "6     4\n",
       "7    17\n",
       "8     4\n",
       "9    11\n",
       "Name: text, dtype: int64"
      ]
     },
     "execution_count": 16,
     "metadata": {},
     "output_type": "execute_result"
    }
   ],
   "source": [
    "# solution 6\n",
    "# load library\n",
    "\n",
    "from nltk import word_tokenize\n",
    "\n",
    "def token_count(string):\n",
    "    # number of tokens in a string\n",
    "    return len(word_tokenize(string))\n",
    "\n",
    "\n",
    "def series_tokens(series):\n",
    "    # apply token_count function on pandas series\n",
    "    return series.apply(token_count)\n",
    "\n",
    "# apply function\n",
    "series_tokens(data.text.head(10))"
   ]
  },
  {
   "cell_type": "code",
   "execution_count": 17,
   "id": "a5766507",
   "metadata": {},
   "outputs": [
    {
     "data": {
      "text/plain": [
       "0                                 (0.18, 0.395)\n",
       "1    (0.014583333333333337, 0.4201388888888889)\n",
       "2    (-0.12291666666666666, 0.5145833333333333)\n",
       "3                  (-0.24375000000000002, 0.65)\n",
       "4                                    (1.0, 0.3)\n",
       "5                                   (-0.1, 0.5)\n",
       "6                                   (-0.2, 0.0)\n",
       "7                     (0.7, 0.6000000000000001)\n",
       "8                                   (-0.2, 0.5)\n",
       "9                                    (0.7, 0.8)\n",
       "Name: text, dtype: object"
      ]
     },
     "execution_count": 17,
     "metadata": {},
     "output_type": "execute_result"
    }
   ],
   "source": [
    "# series polarity subjectivity\n",
    "def series_polarity_subjectivity(series):\n",
    "    return series.apply(polarity_subjectivity)\n",
    "\n",
    "# apply function\n",
    "series_polarity_subjectivity(data.text.head(10))"
   ]
  },
  {
   "cell_type": "markdown",
   "id": "97940eb1",
   "metadata": {},
   "source": [
    "### Measure of Complexity and Lexical Diversity"
   ]
  },
  {
   "cell_type": "code",
   "execution_count": 36,
   "id": "a50001b0",
   "metadata": {},
   "outputs": [
    {
     "data": {
      "text/plain": [
       "0    0.722222\n",
       "1    0.952381\n",
       "2    0.848485\n",
       "3    1.000000\n",
       "4    1.000000\n",
       "5    0.814815\n",
       "6    1.000000\n",
       "7    0.941176\n",
       "8    1.000000\n",
       "9    0.909091\n",
       "Name: text, dtype: float64"
      ]
     },
     "execution_count": 36,
     "metadata": {},
     "output_type": "execute_result"
    }
   ],
   "source": [
    "def complexity(string):\n",
    "    # create a list of all tokens\n",
    "    tokens = word_tokenize(string)\n",
    "    \n",
    "    # create a set oof all tokens\n",
    "    unique_tokens = set(tokens)\n",
    "    \n",
    "    #return complexity measure\n",
    "    try:        \n",
    "        cm =len(unique_tokens)/ len(tokens)\n",
    "    except ZeroDivisionError:\n",
    "        cm = 0\n",
    "    return cm\n",
    "\n",
    "# try function\n",
    "data.text.head(10).apply(complexity)"
   ]
  },
  {
   "cell_type": "markdown",
   "id": "38bef75e",
   "metadata": {},
   "source": [
    "### Text Cleanup"
   ]
  },
  {
   "cell_type": "code",
   "execution_count": 37,
   "id": "78ee8bc9",
   "metadata": {},
   "outputs": [
    {
     "data": {
      "text/plain": [
       "['i',\n",
       " 'me',\n",
       " 'my',\n",
       " 'myself',\n",
       " 'we',\n",
       " 'our',\n",
       " 'ours',\n",
       " 'ourselves',\n",
       " 'you',\n",
       " \"you're\",\n",
       " \"you've\",\n",
       " \"you'll\",\n",
       " \"you'd\",\n",
       " 'your',\n",
       " 'yours',\n",
       " 'yourself',\n",
       " 'yourselves',\n",
       " 'he',\n",
       " 'him',\n",
       " 'his']"
      ]
     },
     "execution_count": 37,
     "metadata": {},
     "output_type": "execute_result"
    }
   ],
   "source": [
    "# import library\n",
    "from nltk.corpus import stopwords\n",
    "\n",
    "english_stop_words = stopwords.words('english')\n",
    "\n",
    "english_stop_words[:20]"
   ]
  },
  {
   "cell_type": "code",
   "execution_count": 38,
   "id": "173c46f6",
   "metadata": {},
   "outputs": [
    {
     "data": {
      "text/plain": [
       "0                                                                                                 [,, ,, slow-moving, ,, aimless, movie, distressed, ,, drifting, young, man, .]\n",
       "1                                                                                                        [sure, lost, -, flat, characters, audience, ,, nearly, half, walked, .]\n",
       "2    [Attempting, artiness, black, &, white, clever, camera, angles, ,, movie, disappointed, -, became, even, ridiculous, -, acting, poor, plot, lines, almost, non-existent, .]\n",
       "3                                                                                                                                            [little, music, anything, speak, .]\n",
       "4                                                                                                     [best, scene, movie, Gerardo, trying, find, song, keeps, running, head, .]\n",
       "Name: text, dtype: object"
      ]
     },
     "execution_count": 38,
     "metadata": {},
     "output_type": "execute_result"
    }
   ],
   "source": [
    "# stopword remover\n",
    "def stopword_remover(string):\n",
    "    # tokenize the string\n",
    "    tokens = word_tokenize(string)\n",
    "    # create a list of english stopwords\n",
    "    english_stopwords = stopwords.words('english')\n",
    "    # return non stopwrds\n",
    "    return [ w for w in tokens if w.lower() not in english_stopwords]\n",
    "\n",
    "# apply function\n",
    "data.text.head().apply(stopword_remover)"
   ]
  },
  {
   "cell_type": "code",
   "execution_count": 39,
   "id": "10221f74",
   "metadata": {},
   "outputs": [
    {
     "data": {
      "text/plain": [
       "0                                                                                                [aimless, movie, distressed, drifting, young, man]\n",
       "1                                                                                    [sure, lost, flat, characters, audience, nearly, half, walked]\n",
       "2    [Attempting, artiness, black, white, clever, camera, angles, movie, disappointed, became, even, ridiculous, acting, poor, plot, lines, almost]\n",
       "3                                                                                                                  [little, music, anything, speak]\n",
       "4                                                                           [best, scene, movie, Gerardo, trying, find, song, keeps, running, head]\n",
       "Name: text, dtype: object"
      ]
     },
     "execution_count": 39,
     "metadata": {},
     "output_type": "execute_result"
    }
   ],
   "source": [
    "# nonalpha remover\n",
    "def stopword_remover_nonalpha(string):\n",
    "    return [ w for w in stopword_remover(string) if w.isalpha()]\n",
    "# apply function\n",
    "data.text.head().apply(stopword_remover_nonalpha)"
   ]
  },
  {
   "cell_type": "code",
   "execution_count": 41,
   "id": "1353ed1c",
   "metadata": {},
   "outputs": [
    {
     "data": {
      "text/html": [
       "<div>\n",
       "<style scoped>\n",
       "    .dataframe tbody tr th:only-of-type {\n",
       "        vertical-align: middle;\n",
       "    }\n",
       "\n",
       "    .dataframe tbody tr th {\n",
       "        vertical-align: top;\n",
       "    }\n",
       "\n",
       "    .dataframe thead th {\n",
       "        text-align: right;\n",
       "    }\n",
       "</style>\n",
       "<table border=\"1\" class=\"dataframe\">\n",
       "  <thead>\n",
       "    <tr style=\"text-align: right;\">\n",
       "      <th></th>\n",
       "      <th>text</th>\n",
       "      <th>label</th>\n",
       "      <th>Complexity</th>\n",
       "    </tr>\n",
       "  </thead>\n",
       "  <tbody>\n",
       "    <tr>\n",
       "      <th>0</th>\n",
       "      <td>A very, very, very slow-moving, aimless movie about a distressed, drifting young man.</td>\n",
       "      <td>0</td>\n",
       "      <td>1.0</td>\n",
       "    </tr>\n",
       "    <tr>\n",
       "      <th>484</th>\n",
       "      <td>Kris Kristoffersen is good in this movie and really makes a difference.</td>\n",
       "      <td>1</td>\n",
       "      <td>1.0</td>\n",
       "    </tr>\n",
       "    <tr>\n",
       "      <th>476</th>\n",
       "      <td>Tom Wilkinson broke my heart at the end... and everyone else's judging by the amount of fumbling for hankies and hands going up to faces among males and females alike.</td>\n",
       "      <td>1</td>\n",
       "      <td>1.0</td>\n",
       "    </tr>\n",
       "    <tr>\n",
       "      <th>477</th>\n",
       "      <td>Julian Fellowes has triumphed again.</td>\n",
       "      <td>1</td>\n",
       "      <td>1.0</td>\n",
       "    </tr>\n",
       "    <tr>\n",
       "      <th>478</th>\n",
       "      <td>He's a national treasure.</td>\n",
       "      <td>1</td>\n",
       "      <td>1.0</td>\n",
       "    </tr>\n",
       "    <tr>\n",
       "      <th>479</th>\n",
       "      <td>GO AND SEE IT!</td>\n",
       "      <td>1</td>\n",
       "      <td>1.0</td>\n",
       "    </tr>\n",
       "    <tr>\n",
       "      <th>480</th>\n",
       "      <td>This is an excellent film.</td>\n",
       "      <td>1</td>\n",
       "      <td>1.0</td>\n",
       "    </tr>\n",
       "    <tr>\n",
       "      <th>481</th>\n",
       "      <td>The aerial scenes were well-done.</td>\n",
       "      <td>1</td>\n",
       "      <td>1.0</td>\n",
       "    </tr>\n",
       "    <tr>\n",
       "      <th>482</th>\n",
       "      <td>It was also the right balance of war and love.</td>\n",
       "      <td>1</td>\n",
       "      <td>1.0</td>\n",
       "    </tr>\n",
       "    <tr>\n",
       "      <th>483</th>\n",
       "      <td>The film gives meaning to the phrase, \"Never in the history of human conflict has so much been owed by so many to so few.</td>\n",
       "      <td>1</td>\n",
       "      <td>1.0</td>\n",
       "    </tr>\n",
       "  </tbody>\n",
       "</table>\n",
       "</div>"
      ],
      "text/plain": [
       "                                                                                                                                                                          text  \\\n",
       "0                                                                                      A very, very, very slow-moving, aimless movie about a distressed, drifting young man.     \n",
       "484                                                                                                  Kris Kristoffersen is good in this movie and really makes a difference.     \n",
       "476  Tom Wilkinson broke my heart at the end... and everyone else's judging by the amount of fumbling for hankies and hands going up to faces among males and females alike.     \n",
       "477                                                                                                                                     Julian Fellowes has triumphed again.     \n",
       "478                                                                                                                                                He's a national treasure.     \n",
       "479                                                                                                                                                           GO AND SEE IT!     \n",
       "480                                                                                                                                               This is an excellent film.     \n",
       "481                                                                                                                                        The aerial scenes were well-done.     \n",
       "482                                                                                                                           It was also the right balance of war and love.     \n",
       "483                                                The film gives meaning to the phrase, \"Never in the history of human conflict has so much been owed by so many to so few.     \n",
       "\n",
       "     label  Complexity  \n",
       "0        0         1.0  \n",
       "484      1         1.0  \n",
       "476      1         1.0  \n",
       "477      1         1.0  \n",
       "478      1         1.0  \n",
       "479      1         1.0  \n",
       "480      1         1.0  \n",
       "481      1         1.0  \n",
       "482      1         1.0  \n",
       "483      1         1.0  "
      ]
     },
     "execution_count": 41,
     "metadata": {},
     "output_type": "execute_result"
    }
   ],
   "source": [
    "# complexity cleaned up\n",
    "\n",
    "def complexity_cleaned(series):\n",
    "    return series.apply(lambda x: complexity(\" \".join(stopword_remover_nonalpha(x))))\n",
    "# add complexity cleaned to df\n",
    "data['Complexity'] = complexity_cleaned(data.text)\n",
    "data.sort_values('Complexity', ascending=False).head(10)"
   ]
  },
  {
   "cell_type": "code",
   "execution_count": null,
   "id": "9dc976f3",
   "metadata": {},
   "outputs": [],
   "source": []
  }
 ],
 "metadata": {
  "kernelspec": {
   "display_name": "Python 3 (ipykernel)",
   "language": "python",
   "name": "python3"
  },
  "language_info": {
   "codemirror_mode": {
    "name": "ipython",
    "version": 3
   },
   "file_extension": ".py",
   "mimetype": "text/x-python",
   "name": "python",
   "nbconvert_exporter": "python",
   "pygments_lexer": "ipython3",
   "version": "3.10.9"
  }
 },
 "nbformat": 4,
 "nbformat_minor": 5
}

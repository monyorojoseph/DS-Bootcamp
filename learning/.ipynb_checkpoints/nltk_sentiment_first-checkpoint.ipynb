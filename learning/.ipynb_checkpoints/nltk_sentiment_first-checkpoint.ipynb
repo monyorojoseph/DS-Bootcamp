{
 "cells": [
  {
   "cell_type": "code",
   "execution_count": 1,
   "id": "3dc3b033",
   "metadata": {},
   "outputs": [],
   "source": [
    "# load libraries\n",
    "import nltk\n",
    "from nltk.corpus import stopwords"
   ]
  },
  {
   "cell_type": "code",
   "execution_count": 2,
   "id": "d27d8502",
   "metadata": {},
   "outputs": [],
   "source": [
    "# isalpha is used to filter out punctuations\n",
    "words = [ w for w in nltk.corpus.state_union.words() if w.isalpha()]"
   ]
  },
  {
   "cell_type": "code",
   "execution_count": 3,
   "id": "4235ff2e",
   "metadata": {},
   "outputs": [],
   "source": [
    "# get english stopwords\n",
    "english_stopwords = nltk.corpus.stopwords.words('english')"
   ]
  },
  {
   "cell_type": "code",
   "execution_count": 5,
   "id": "c68cacab",
   "metadata": {},
   "outputs": [],
   "source": [
    "# filtering stopwords, stopwords are in lowercase\n",
    "words = [ w for w in words if w.lower() not in english_stopwords]"
   ]
  },
  {
   "cell_type": "markdown",
   "id": "618ee60d",
   "metadata": {},
   "source": [
    "### Word Tokenization and Creating Frequencys Distribution"
   ]
  },
  {
   "cell_type": "code",
   "execution_count": 7,
   "id": "92648181",
   "metadata": {},
   "outputs": [
    {
     "data": {
      "text/plain": [
       "['For',\n",
       " 'some',\n",
       " 'quick',\n",
       " 'analysis',\n",
       " ',',\n",
       " 'creating',\n",
       " 'a',\n",
       " 'corpus',\n",
       " 'could',\n",
       " 'be']"
      ]
     },
     "execution_count": 7,
     "metadata": {},
     "output_type": "execute_result"
    }
   ],
   "source": [
    "text = \"\"\"\n",
    "For some quick analysis, creating a corpus could be overkill.\n",
    "If all you need is a word list,\n",
    "there are simpler ways to achieve that goal.\"\"\"\n",
    "\n",
    "\n",
    "# tokenizing strings, filtering punctuations\n",
    "# words = [w for w in nltk.word_tokenize(text) if w.isalpha()]\n",
    "# creating frequency distribution\n",
    "freq = nltk.FreqDist(words)\n"
   ]
  },
  {
   "cell_type": "markdown",
   "id": "87c7569e",
   "metadata": {},
   "source": [
    "### visualizing information"
   ]
  },
  {
   "cell_type": "code",
   "execution_count": 6,
   "id": "42e48f90",
   "metadata": {},
   "outputs": [
    {
     "data": {
      "text/plain": [
       "[('must', 1568), ('people', 1291), ('world', 1128)]"
      ]
     },
     "execution_count": 6,
     "metadata": {},
     "output_type": "execute_result"
    }
   ],
   "source": [
    "freq.most_common(3)"
   ]
  },
  {
   "cell_type": "code",
   "execution_count": 7,
   "id": "c0596074",
   "metadata": {},
   "outputs": [
    {
     "name": "stdout",
     "output_type": "stream",
     "text": [
      "  must people  world \n",
      "  1568   1291   1128 \n"
     ]
    }
   ],
   "source": [
    "freq.tabulate(3)"
   ]
  },
  {
   "cell_type": "code",
   "execution_count": 8,
   "id": "0ea3ea9d",
   "metadata": {},
   "outputs": [
    {
     "data": {
      "text/plain": [
       "1076"
      ]
     },
     "execution_count": 8,
     "metadata": {},
     "output_type": "execute_result"
    }
   ],
   "source": [
    "freq['America']"
   ]
  },
  {
   "cell_type": "code",
   "execution_count": 9,
   "id": "97a34428",
   "metadata": {},
   "outputs": [
    {
     "data": {
      "text/plain": [
       "0"
      ]
     },
     "execution_count": 9,
     "metadata": {},
     "output_type": "execute_result"
    }
   ],
   "source": [
    "freq['america']"
   ]
  },
  {
   "cell_type": "code",
   "execution_count": 10,
   "id": "960f79f3",
   "metadata": {},
   "outputs": [
    {
     "data": {
      "text/plain": [
       "3"
      ]
     },
     "execution_count": 10,
     "metadata": {},
     "output_type": "execute_result"
    }
   ],
   "source": [
    "freq['AMERICA']"
   ]
  },
  {
   "cell_type": "code",
   "execution_count": 11,
   "id": "d2d3e492",
   "metadata": {},
   "outputs": [],
   "source": [
    "# lowercase words freqdist\n",
    "lower_fd = nltk.FreqDist([word.lower() for word in words])"
   ]
  },
  {
   "cell_type": "markdown",
   "id": "f1e905c0",
   "metadata": {},
   "source": [
    "### Extracting Corncodance and Collocations"
   ]
  },
  {
   "cell_type": "code",
   "execution_count": 12,
   "id": "9d4d7175",
   "metadata": {},
   "outputs": [
    {
     "name": "stdout",
     "output_type": "stream",
     "text": [
      "Displaying 4 of 1079 matches:\n",
      " would want us to do . That is what America will do . So much blood has already\n",
      "ay , the entire world is looking to America for enlightened leadership to peace\n",
      "beyond any shadow of a doubt , that America will continue the fight for freedom\n",
      " to make complete victory certain , America will never become a party to any pl\n"
     ]
    }
   ],
   "source": [
    "# get corncodance even for punctuations\n",
    "text = nltk.Text(nltk.corpus.state_union.words())\n",
    "text.concordance(\"america\", lines=4)"
   ]
  },
  {
   "cell_type": "code",
   "execution_count": 14,
   "id": "d0cd06c9",
   "metadata": {},
   "outputs": [
    {
     "name": "stdout",
     "output_type": "stream",
     "text": [
      " would want us to do . That is what America will do . So much blood has already\n",
      "ay , the entire world is looking to America for enlightened leadership to peace\n",
      "beyond any shadow of a doubt , that America will continue the fight for freedom\n"
     ]
    }
   ],
   "source": [
    "concordance_list = text.concordance_list(\"america\", lines=3)\n",
    "for entry in concordance_list:\n",
    "    print(entry.line)"
   ]
  },
  {
   "cell_type": "code",
   "execution_count": 17,
   "id": "ddc10bbb",
   "metadata": {},
   "outputs": [
    {
     "name": "stdout",
     "output_type": "stream",
     "text": [
      "    is better   than \n",
      "     3      3      3 \n"
     ]
    }
   ],
   "source": [
    "# trying to use TEXT vocab method\n",
    "d_words = nltk.word_tokenize(\"\"\"\n",
    "Beautiful is better than ugly.\n",
    "Explicit is better than implicit.\n",
    "imple is better than complex.\n",
    "\"\"\")\n",
    "d_text = nltk.Text(d_words)\n",
    "fd = d_text.vocab()     # same as FreqDist\n",
    "fd.tabulate(3)\n"
   ]
  },
  {
   "cell_type": "code",
   "execution_count": 18,
   "id": "bcfe03e0",
   "metadata": {},
   "outputs": [],
   "source": [
    "# collocations\n",
    "words = [ w for w in nltk.corpus.state_union.words() if w.isalpha()]\n",
    "finder = nltk.collocations.TrigramCollocationFinder.from_words(words)"
   ]
  },
  {
   "cell_type": "code",
   "execution_count": 20,
   "id": "009a56db",
   "metadata": {},
   "outputs": [
    {
     "data": {
      "text/plain": [
       "[(('the', 'United', 'States'), 294), (('the', 'American', 'people'), 185)]"
      ]
     },
     "execution_count": 20,
     "metadata": {},
     "output_type": "execute_result"
    }
   ],
   "source": [
    "# get frequency distribution\n",
    "finder.ngram_fd.most_common(2)"
   ]
  },
  {
   "cell_type": "code",
   "execution_count": 21,
   "id": "8065976d",
   "metadata": {},
   "outputs": [
    {
     "name": "stdout",
     "output_type": "stream",
     "text": [
      "  ('the', 'United', 'States') ('the', 'American', 'people') \n",
      "                          294                           185 \n"
     ]
    }
   ],
   "source": [
    "finder.ngram_fd.tabulate(2)"
   ]
  },
  {
   "cell_type": "markdown",
   "id": "bb4c2263",
   "metadata": {},
   "source": [
    "### Sentiment Analyzer"
   ]
  },
  {
   "cell_type": "code",
   "execution_count": 22,
   "id": "61592561",
   "metadata": {},
   "outputs": [],
   "source": [
    "from nltk.sentiment import SentimentIntensityAnalyzer"
   ]
  },
  {
   "cell_type": "code",
   "execution_count": 23,
   "id": "26ae4c6d",
   "metadata": {},
   "outputs": [
    {
     "data": {
      "text/plain": [
       "{'neg': 0.0, 'neu': 0.295, 'pos': 0.705, 'compound': 0.8012}"
      ]
     },
     "execution_count": 23,
     "metadata": {},
     "output_type": "execute_result"
    }
   ],
   "source": [
    "sia = SentimentIntensityAnalyzer()\n",
    "sia.polarity_scores(\"Wow, NLTK is really powerful!\")"
   ]
  },
  {
   "cell_type": "code",
   "execution_count": 24,
   "id": "52b0d0d5",
   "metadata": {},
   "outputs": [],
   "source": [
    "tweets = [t.replace(\"://\",  \"//\") for t in nltk.corpus.twitter_samples.strings()]"
   ]
  },
  {
   "cell_type": "code",
   "execution_count": 27,
   "id": "b1ea775a",
   "metadata": {},
   "outputs": [
    {
     "name": "stdout",
     "output_type": "stream",
     "text": [
      "> 0 True @sweettoothmarti should keep you going for a few mins lol :-)))))\n",
      "> 0 False @Red_Doom @Twymaan you lied to me :(\n",
      "You said you could t drink :(\n",
      "> 0 True @IanBell1916 The aim is to make Scots vote for labour, to keep tories out. How original\n",
      "> 0 True Ed Miliband's refusal to admit that Labour overspent could cost him dear - Spectator Blogs http//t.co/2HuDWGfqjD\n",
      "> 0 True RT @HouseOfTraitors: #bbcbias Number of times Party/Leader mentioned tonight on @BBCNews \n",
      "\n",
      "LAB  14\n",
      "CON  9\n",
      "LIB    7\n",
      "SNP  5\n",
      "UKIP  0\n",
      "> 0 False RT @StewartHosieSNP: @theSNP want to lock the Tories out of power. Why is Miliband threatening to allow Cameron back into Downing Street?  …\n",
      "> 0 True @blairmcdougall @tullythedhog EdM was quite clear. HE would be happier with a Tory PM.\n",
      "> 0 False RT @NursieDear25: Not a fan of Miliband, but the idea of him being so bitter over losing the Scottish vote that he enables another Tory gov…\n",
      "> 0 False Farage is a bit of an anti-climax\n",
      "> 0 True RT @Tommy_Colc: Financial Times come out in support of Tories claiming Miliband is \"preoccupied w/ inequality\". The man who wrote it http:/…\n"
     ]
    }
   ],
   "source": [
    "from random import shuffle\n",
    "\n",
    "\n",
    "\n",
    "def is_postive(tweet: str) -> bool:\n",
    "    return sia.polarity_scores(tweet)['compound'] > 0\n",
    "\n",
    "shuffle(tweets)\n",
    "for tweet in tweets[:10]:\n",
    "    print(\"> 0\", is_postive(tweet), tweet)"
   ]
  },
  {
   "cell_type": "code",
   "execution_count": null,
   "id": "538ae2c7",
   "metadata": {},
   "outputs": [],
   "source": []
  }
 ],
 "metadata": {
  "kernelspec": {
   "display_name": "Python 3 (ipykernel)",
   "language": "python",
   "name": "python3"
  },
  "language_info": {
   "codemirror_mode": {
    "name": "ipython",
    "version": 3
   },
   "file_extension": ".py",
   "mimetype": "text/x-python",
   "name": "python",
   "nbconvert_exporter": "python",
   "pygments_lexer": "ipython3",
   "version": "3.10.9"
  }
 },
 "nbformat": 4,
 "nbformat_minor": 5
}

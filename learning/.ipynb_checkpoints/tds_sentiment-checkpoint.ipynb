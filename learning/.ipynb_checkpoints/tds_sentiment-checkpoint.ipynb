{
 "cells": [
  {
   "cell_type": "markdown",
   "id": "bcc70997",
   "metadata": {},
   "source": [
    "\n",
    "### Learn how to  use NLTK"
   ]
  },
  {
   "cell_type": "code",
   "execution_count": 1,
   "id": "76a37842",
   "metadata": {},
   "outputs": [],
   "source": [
    "# load required lbraries\n",
    "import pandas as pd\n",
    "import numpy as np\n",
    "import nltk"
   ]
  },
  {
   "cell_type": "code",
   "execution_count": 2,
   "id": "bda203dd",
   "metadata": {},
   "outputs": [],
   "source": [
    "# making width of the column viewable\n",
    "pd.set_option('display.max_colwidth', None)"
   ]
  },
  {
   "cell_type": "code",
   "execution_count": 3,
   "id": "e86fac6d",
   "metadata": {},
   "outputs": [
    {
     "data": {
      "text/html": [
       "<div>\n",
       "<style scoped>\n",
       "    .dataframe tbody tr th:only-of-type {\n",
       "        vertical-align: middle;\n",
       "    }\n",
       "\n",
       "    .dataframe tbody tr th {\n",
       "        vertical-align: top;\n",
       "    }\n",
       "\n",
       "    .dataframe thead th {\n",
       "        text-align: right;\n",
       "    }\n",
       "</style>\n",
       "<table border=\"1\" class=\"dataframe\">\n",
       "  <thead>\n",
       "    <tr style=\"text-align: right;\">\n",
       "      <th></th>\n",
       "      <th>text</th>\n",
       "      <th>label</th>\n",
       "    </tr>\n",
       "  </thead>\n",
       "  <tbody>\n",
       "    <tr>\n",
       "      <th>0</th>\n",
       "      <td>A very, very, very slow-moving, aimless movie about a distressed, drifting young man.</td>\n",
       "      <td>0</td>\n",
       "    </tr>\n",
       "    <tr>\n",
       "      <th>1</th>\n",
       "      <td>Not sure who was more lost - the flat characters or the audience, nearly half of whom walked out.</td>\n",
       "      <td>0</td>\n",
       "    </tr>\n",
       "    <tr>\n",
       "      <th>2</th>\n",
       "      <td>Attempting artiness with black &amp; white and clever camera angles, the movie disappointed - became even more ridiculous - as the acting was poor and the plot and lines almost non-existent.</td>\n",
       "      <td>0</td>\n",
       "    </tr>\n",
       "    <tr>\n",
       "      <th>3</th>\n",
       "      <td>Very little music or anything to speak of.</td>\n",
       "      <td>0</td>\n",
       "    </tr>\n",
       "    <tr>\n",
       "      <th>4</th>\n",
       "      <td>The best scene in the movie was when Gerardo is trying to find a song that keeps running through his head.</td>\n",
       "      <td>1</td>\n",
       "    </tr>\n",
       "  </tbody>\n",
       "</table>\n",
       "</div>"
      ],
      "text/plain": [
       "                                                                                                                                                                                           text  \\\n",
       "0                                                                                                       A very, very, very slow-moving, aimless movie about a distressed, drifting young man.     \n",
       "1                                                                                           Not sure who was more lost - the flat characters or the audience, nearly half of whom walked out.     \n",
       "2  Attempting artiness with black & white and clever camera angles, the movie disappointed - became even more ridiculous - as the acting was poor and the plot and lines almost non-existent.     \n",
       "3                                                                                                                                                  Very little music or anything to speak of.     \n",
       "4                                                                                  The best scene in the movie was when Gerardo is trying to find a song that keeps running through his head.     \n",
       "\n",
       "   label  \n",
       "0      0  \n",
       "1      0  \n",
       "2      0  \n",
       "3      0  \n",
       "4      1  "
      ]
     },
     "execution_count": 3,
     "metadata": {},
     "output_type": "execute_result"
    }
   ],
   "source": [
    "# load data\n",
    "data = pd.read_csv('data/imdb_labelled.csv')\n",
    "data.head()"
   ]
  },
  {
   "cell_type": "code",
   "execution_count": 4,
   "id": "604ab530",
   "metadata": {},
   "outputs": [
    {
     "data": {
      "text/plain": [
       "1    386\n",
       "0    362\n",
       "Name: label, dtype: int64"
      ]
     },
     "execution_count": 4,
     "metadata": {},
     "output_type": "execute_result"
    }
   ],
   "source": [
    "data['label'].value_counts()"
   ]
  },
  {
   "cell_type": "code",
   "execution_count": 5,
   "id": "f9b5c374",
   "metadata": {},
   "outputs": [
    {
     "data": {
      "text/plain": [
       "'A very, very, very slow-moving, aimless movie about a distressed, drifting young man.  '"
      ]
     },
     "execution_count": 5,
     "metadata": {},
     "output_type": "execute_result"
    }
   ],
   "source": [
    "sample = data.text[0]\n",
    "sample"
   ]
  },
  {
   "cell_type": "markdown",
   "id": "d7f85efc",
   "metadata": {},
   "source": [
    "### Tokens and Bigrams"
   ]
  },
  {
   "cell_type": "code",
   "execution_count": 6,
   "id": "839d02e8",
   "metadata": {},
   "outputs": [
    {
     "data": {
      "text/plain": [
       "['A', 'very', ',', 'very', ',', 'very', 'slow-moving', ',', 'aimless', 'movie']"
      ]
     },
     "execution_count": 6,
     "metadata": {},
     "output_type": "execute_result"
    }
   ],
   "source": [
    "# import package\n",
    "from nltk import word_tokenize\n",
    "\n",
    "# tokenize the sample\n",
    "sample_tokens = word_tokenize(sample)\n",
    "sample_tokens[:10]"
   ]
  },
  {
   "cell_type": "markdown",
   "id": "1f26a1fa",
   "metadata": {},
   "source": [
    "### Creating a list of Bigrams"
   ]
  },
  {
   "cell_type": "code",
   "execution_count": 7,
   "id": "13b67c76",
   "metadata": {},
   "outputs": [
    {
     "data": {
      "text/plain": [
       "[('A', 'very'),\n",
       " ('very', ','),\n",
       " (',', 'very'),\n",
       " ('very', ','),\n",
       " (',', 'very'),\n",
       " ('very', 'slow-moving'),\n",
       " ('slow-moving', ','),\n",
       " (',', 'aimless'),\n",
       " ('aimless', 'movie'),\n",
       " ('movie', 'about')]"
      ]
     },
     "execution_count": 7,
     "metadata": {},
     "output_type": "execute_result"
    }
   ],
   "source": [
    "from nltk import bigrams\n",
    "\n",
    "# bigrams of the sample\n",
    "sample_bigragrams = list(bigrams(sample_tokens))\n",
    "sample_bigragrams[:10]"
   ]
  },
  {
   "cell_type": "markdown",
   "id": "b2a58103",
   "metadata": {},
   "source": [
    "### Frequency Distribution"
   ]
  },
  {
   "cell_type": "code",
   "execution_count": 8,
   "id": "49b665cd",
   "metadata": {},
   "outputs": [
    {
     "data": {
      "text/plain": [
       "[(',', 4),\n",
       " ('very', 3),\n",
       " ('A', 1),\n",
       " ('slow-moving', 1),\n",
       " ('aimless', 1),\n",
       " ('movie', 1),\n",
       " ('about', 1),\n",
       " ('a', 1),\n",
       " ('distressed', 1),\n",
       " ('drifting', 1)]"
      ]
     },
     "execution_count": 8,
     "metadata": {},
     "output_type": "execute_result"
    }
   ],
   "source": [
    "from nltk import FreqDist\n",
    "\n",
    "sample_fd = FreqDist(sample_tokens)\n",
    "sample_fd.most_common(10)"
   ]
  },
  {
   "cell_type": "code",
   "execution_count": 9,
   "id": "4ebe4e54",
   "metadata": {},
   "outputs": [
    {
     "data": {
      "text/plain": [
       "[('the', 2),\n",
       " ('Not', 1),\n",
       " ('sure', 1),\n",
       " ('who', 1),\n",
       " ('was', 1),\n",
       " ('more', 1),\n",
       " ('lost', 1),\n",
       " ('-', 1),\n",
       " ('flat', 1),\n",
       " ('characters', 1)]"
      ]
     },
     "execution_count": 9,
     "metadata": {},
     "output_type": "execute_result"
    }
   ],
   "source": [
    "# create a function to accept a text and n nad returns top most common tokens\n",
    "def text_n(text, n):\n",
    "    # get text tokens/unigrams     \n",
    "    tokenize = word_tokenize(text)    \n",
    "    # get frequency distribution for the unigrams\n",
    "    fd = FreqDist(tokenize)\n",
    "    # return the top n most common unigrams\n",
    "    return fd.most_common(n)\n",
    "\n",
    "# try sample\n",
    "text_n(data.text[1], 10)"
   ]
  },
  {
   "cell_type": "markdown",
   "id": "9e28ce21",
   "metadata": {},
   "source": [
    "### Document Term Matrix (DTM)"
   ]
  },
  {
   "cell_type": "code",
   "execution_count": 10,
   "id": "10fb6892",
   "metadata": {},
   "outputs": [
    {
     "data": {
      "text/html": [
       "<div>\n",
       "<style scoped>\n",
       "    .dataframe tbody tr th:only-of-type {\n",
       "        vertical-align: middle;\n",
       "    }\n",
       "\n",
       "    .dataframe tbody tr th {\n",
       "        vertical-align: top;\n",
       "    }\n",
       "\n",
       "    .dataframe thead th {\n",
       "        text-align: right;\n",
       "    }\n",
       "</style>\n",
       "<table border=\"1\" class=\"dataframe\">\n",
       "  <thead>\n",
       "    <tr style=\"text-align: right;\">\n",
       "      <th></th>\n",
       "      <th>about</th>\n",
       "      <th>acting</th>\n",
       "      <th>aimless</th>\n",
       "      <th>almost</th>\n",
       "      <th>and</th>\n",
       "      <th>angles</th>\n",
       "      <th>anything</th>\n",
       "      <th>artiness</th>\n",
       "      <th>as</th>\n",
       "      <th>attempting</th>\n",
       "      <th>...</th>\n",
       "      <th>trying</th>\n",
       "      <th>very</th>\n",
       "      <th>walked</th>\n",
       "      <th>was</th>\n",
       "      <th>when</th>\n",
       "      <th>white</th>\n",
       "      <th>who</th>\n",
       "      <th>whom</th>\n",
       "      <th>with</th>\n",
       "      <th>young</th>\n",
       "    </tr>\n",
       "  </thead>\n",
       "  <tbody>\n",
       "    <tr>\n",
       "      <th>0</th>\n",
       "      <td>1</td>\n",
       "      <td>0</td>\n",
       "      <td>1</td>\n",
       "      <td>0</td>\n",
       "      <td>0</td>\n",
       "      <td>0</td>\n",
       "      <td>0</td>\n",
       "      <td>0</td>\n",
       "      <td>0</td>\n",
       "      <td>0</td>\n",
       "      <td>...</td>\n",
       "      <td>0</td>\n",
       "      <td>3</td>\n",
       "      <td>0</td>\n",
       "      <td>0</td>\n",
       "      <td>0</td>\n",
       "      <td>0</td>\n",
       "      <td>0</td>\n",
       "      <td>0</td>\n",
       "      <td>0</td>\n",
       "      <td>1</td>\n",
       "    </tr>\n",
       "    <tr>\n",
       "      <th>1</th>\n",
       "      <td>0</td>\n",
       "      <td>0</td>\n",
       "      <td>0</td>\n",
       "      <td>0</td>\n",
       "      <td>0</td>\n",
       "      <td>0</td>\n",
       "      <td>0</td>\n",
       "      <td>0</td>\n",
       "      <td>0</td>\n",
       "      <td>0</td>\n",
       "      <td>...</td>\n",
       "      <td>0</td>\n",
       "      <td>0</td>\n",
       "      <td>1</td>\n",
       "      <td>1</td>\n",
       "      <td>0</td>\n",
       "      <td>0</td>\n",
       "      <td>1</td>\n",
       "      <td>1</td>\n",
       "      <td>0</td>\n",
       "      <td>0</td>\n",
       "    </tr>\n",
       "    <tr>\n",
       "      <th>2</th>\n",
       "      <td>0</td>\n",
       "      <td>1</td>\n",
       "      <td>0</td>\n",
       "      <td>1</td>\n",
       "      <td>3</td>\n",
       "      <td>1</td>\n",
       "      <td>0</td>\n",
       "      <td>1</td>\n",
       "      <td>1</td>\n",
       "      <td>1</td>\n",
       "      <td>...</td>\n",
       "      <td>0</td>\n",
       "      <td>0</td>\n",
       "      <td>0</td>\n",
       "      <td>1</td>\n",
       "      <td>0</td>\n",
       "      <td>1</td>\n",
       "      <td>0</td>\n",
       "      <td>0</td>\n",
       "      <td>1</td>\n",
       "      <td>0</td>\n",
       "    </tr>\n",
       "    <tr>\n",
       "      <th>3</th>\n",
       "      <td>0</td>\n",
       "      <td>0</td>\n",
       "      <td>0</td>\n",
       "      <td>0</td>\n",
       "      <td>0</td>\n",
       "      <td>0</td>\n",
       "      <td>1</td>\n",
       "      <td>0</td>\n",
       "      <td>0</td>\n",
       "      <td>0</td>\n",
       "      <td>...</td>\n",
       "      <td>0</td>\n",
       "      <td>1</td>\n",
       "      <td>0</td>\n",
       "      <td>0</td>\n",
       "      <td>0</td>\n",
       "      <td>0</td>\n",
       "      <td>0</td>\n",
       "      <td>0</td>\n",
       "      <td>0</td>\n",
       "      <td>0</td>\n",
       "    </tr>\n",
       "    <tr>\n",
       "      <th>4</th>\n",
       "      <td>0</td>\n",
       "      <td>0</td>\n",
       "      <td>0</td>\n",
       "      <td>0</td>\n",
       "      <td>0</td>\n",
       "      <td>0</td>\n",
       "      <td>0</td>\n",
       "      <td>0</td>\n",
       "      <td>0</td>\n",
       "      <td>0</td>\n",
       "      <td>...</td>\n",
       "      <td>1</td>\n",
       "      <td>0</td>\n",
       "      <td>0</td>\n",
       "      <td>1</td>\n",
       "      <td>1</td>\n",
       "      <td>0</td>\n",
       "      <td>0</td>\n",
       "      <td>0</td>\n",
       "      <td>0</td>\n",
       "      <td>0</td>\n",
       "    </tr>\n",
       "  </tbody>\n",
       "</table>\n",
       "<p>5 rows × 68 columns</p>\n",
       "</div>"
      ],
      "text/plain": [
       "   about  acting  aimless  almost  and  angles  anything  artiness  as  \\\n",
       "0      1       0        1       0    0       0         0         0   0   \n",
       "1      0       0        0       0    0       0         0         0   0   \n",
       "2      0       1        0       1    3       1         0         1   1   \n",
       "3      0       0        0       0    0       0         1         0   0   \n",
       "4      0       0        0       0    0       0         0         0   0   \n",
       "\n",
       "   attempting  ...  trying  very  walked  was  when  white  who  whom  with  \\\n",
       "0           0  ...       0     3       0    0     0      0    0     0     0   \n",
       "1           0  ...       0     0       1    1     0      0    1     1     0   \n",
       "2           1  ...       0     0       0    1     0      1    0     0     1   \n",
       "3           0  ...       0     1       0    0     0      0    0     0     0   \n",
       "4           0  ...       1     0       0    1     1      0    0     0     0   \n",
       "\n",
       "   young  \n",
       "0      1  \n",
       "1      0  \n",
       "2      0  \n",
       "3      0  \n",
       "4      0  \n",
       "\n",
       "[5 rows x 68 columns]"
      ]
     },
     "execution_count": 10,
     "metadata": {},
     "output_type": "execute_result"
    }
   ],
   "source": [
    "# rep the frequency of terms that occur in a collection of documents\n",
    "# create a dtm function \n",
    "# import package\n",
    "from sklearn.feature_extraction.text import CountVectorizer\n",
    "\n",
    "def create_dtm(series):\n",
    "    # create an instance of countvectorizer\n",
    "    cv = CountVectorizer()\n",
    "    # create a dtm from provided series\n",
    "    dtm = cv.fit_transform(series)\n",
    "    # convert sparse array to dense array\n",
    "    dtm = dtm.todense()\n",
    "    # get column names\n",
    "    features = cv.get_feature_names_out()\n",
    "    # create df\n",
    "    dtm_df = pd.DataFrame(dtm, columns=features)\n",
    "    \n",
    "    return dtm_df\n",
    "# try on sample with 5 rows\n",
    "create_dtm(data.text.head())"
   ]
  },
  {
   "cell_type": "markdown",
   "id": "d3461203",
   "metadata": {},
   "source": [
    "### Feature Importance"
   ]
  },
  {
   "cell_type": "code",
   "execution_count": 11,
   "id": "fb6ddd76",
   "metadata": {},
   "outputs": [
    {
     "data": {
      "text/html": [
       "<div>\n",
       "<style scoped>\n",
       "    .dataframe tbody tr th:only-of-type {\n",
       "        vertical-align: middle;\n",
       "    }\n",
       "\n",
       "    .dataframe tbody tr th {\n",
       "        vertical-align: top;\n",
       "    }\n",
       "\n",
       "    .dataframe thead th {\n",
       "        text-align: right;\n",
       "    }\n",
       "</style>\n",
       "<table border=\"1\" class=\"dataframe\">\n",
       "  <thead>\n",
       "    <tr style=\"text-align: right;\">\n",
       "      <th></th>\n",
       "      <th>Tokens</th>\n",
       "      <th>Coefficients</th>\n",
       "    </tr>\n",
       "  </thead>\n",
       "  <tbody>\n",
       "    <tr>\n",
       "      <th>1567</th>\n",
       "      <td>liked</td>\n",
       "      <td>1.286747</td>\n",
       "    </tr>\n",
       "    <tr>\n",
       "      <th>2997</th>\n",
       "      <td>wonderful</td>\n",
       "      <td>1.242158</td>\n",
       "    </tr>\n",
       "    <tr>\n",
       "      <th>1104</th>\n",
       "      <td>funny</td>\n",
       "      <td>1.112821</td>\n",
       "    </tr>\n",
       "    <tr>\n",
       "      <th>1182</th>\n",
       "      <td>great</td>\n",
       "      <td>1.068772</td>\n",
       "    </tr>\n",
       "    <tr>\n",
       "      <th>2949</th>\n",
       "      <td>well</td>\n",
       "      <td>1.043139</td>\n",
       "    </tr>\n",
       "    <tr>\n",
       "      <th>246</th>\n",
       "      <td>beautiful</td>\n",
       "      <td>1.042833</td>\n",
       "    </tr>\n",
       "    <tr>\n",
       "      <th>0</th>\n",
       "      <td>10</td>\n",
       "      <td>1.035405</td>\n",
       "    </tr>\n",
       "    <tr>\n",
       "      <th>344</th>\n",
       "      <td>brilliant</td>\n",
       "      <td>1.014080</td>\n",
       "    </tr>\n",
       "    <tr>\n",
       "      <th>908</th>\n",
       "      <td>excellent</td>\n",
       "      <td>1.009914</td>\n",
       "    </tr>\n",
       "    <tr>\n",
       "      <th>2203</th>\n",
       "      <td>right</td>\n",
       "      <td>0.985806</td>\n",
       "    </tr>\n",
       "  </tbody>\n",
       "</table>\n",
       "</div>"
      ],
      "text/plain": [
       "         Tokens  Coefficients\n",
       "1567      liked      1.286747\n",
       "2997  wonderful      1.242158\n",
       "1104      funny      1.112821\n",
       "1182      great      1.068772\n",
       "2949       well      1.043139\n",
       "246   beautiful      1.042833\n",
       "0            10      1.035405\n",
       "344   brilliant      1.014080\n",
       "908   excellent      1.009914\n",
       "2203      right      0.985806"
      ]
     },
     "execution_count": 11,
     "metadata": {},
     "output_type": "execute_result"
    }
   ],
   "source": [
    "# define a function named top_n_tokens\n",
    "# import logistic regression\n",
    "from sklearn.linear_model import LogisticRegression\n",
    "\n",
    "def top_n_tokens(text, sentiment, n):\n",
    "    # create instance of the class\n",
    "    lrg = LogisticRegression(solver = 'lbfgs', max_iter = 2500, random_state = 1234)\n",
    "    cv = CountVectorizer()\n",
    "    # create dtm\n",
    "    dtm = cv.fit_transform(text)\n",
    "    # fit logistic regression model\n",
    "    lrg.fit(dtm , sentiment)\n",
    "    # get the coefficient\n",
    "    coefs = lrg.coef_[0]\n",
    "    # create the feature / column names\n",
    "    features = cv.get_feature_names_out()\n",
    "    # create a dataframe\n",
    "    df = pd.DataFrame({\"Tokens\": features, \"Coefficients\": coefs})\n",
    "    \n",
    "    # return the largest n\n",
    "    return df.nlargest(n, 'Coefficients')\n",
    "\n",
    "\n",
    "# try with sample\n",
    "top_n_tokens(data.text, data.label, 10)"
   ]
  },
  {
   "cell_type": "code",
   "execution_count": 12,
   "id": "a24e5c36",
   "metadata": {},
   "outputs": [
    {
     "data": {
      "text/html": [
       "<div>\n",
       "<style scoped>\n",
       "    .dataframe tbody tr th:only-of-type {\n",
       "        vertical-align: middle;\n",
       "    }\n",
       "\n",
       "    .dataframe tbody tr th {\n",
       "        vertical-align: top;\n",
       "    }\n",
       "\n",
       "    .dataframe thead th {\n",
       "        text-align: right;\n",
       "    }\n",
       "</style>\n",
       "<table border=\"1\" class=\"dataframe\">\n",
       "  <thead>\n",
       "    <tr style=\"text-align: right;\">\n",
       "      <th></th>\n",
       "      <th>Tokens</th>\n",
       "      <th>Coefficients</th>\n",
       "    </tr>\n",
       "  </thead>\n",
       "  <tbody>\n",
       "    <tr>\n",
       "      <th>222</th>\n",
       "      <td>bad</td>\n",
       "      <td>-1.872751</td>\n",
       "    </tr>\n",
       "    <tr>\n",
       "      <th>211</th>\n",
       "      <td>awful</td>\n",
       "      <td>-1.334554</td>\n",
       "    </tr>\n",
       "    <tr>\n",
       "      <th>2530</th>\n",
       "      <td>stupid</td>\n",
       "      <td>-1.175416</td>\n",
       "    </tr>\n",
       "    <tr>\n",
       "      <th>441</th>\n",
       "      <td>cheap</td>\n",
       "      <td>-1.139512</td>\n",
       "    </tr>\n",
       "    <tr>\n",
       "      <th>1802</th>\n",
       "      <td>no</td>\n",
       "      <td>-1.137234</td>\n",
       "    </tr>\n",
       "    <tr>\n",
       "      <th>893</th>\n",
       "      <td>even</td>\n",
       "      <td>-1.091436</td>\n",
       "    </tr>\n",
       "    <tr>\n",
       "      <th>3017</th>\n",
       "      <td>would</td>\n",
       "      <td>-1.047931</td>\n",
       "    </tr>\n",
       "    <tr>\n",
       "      <th>3012</th>\n",
       "      <td>worst</td>\n",
       "      <td>-1.039231</td>\n",
       "    </tr>\n",
       "    <tr>\n",
       "      <th>2923</th>\n",
       "      <td>waste</td>\n",
       "      <td>-1.038206</td>\n",
       "    </tr>\n",
       "    <tr>\n",
       "      <th>1819</th>\n",
       "      <td>nothing</td>\n",
       "      <td>-0.973472</td>\n",
       "    </tr>\n",
       "  </tbody>\n",
       "</table>\n",
       "</div>"
      ],
      "text/plain": [
       "       Tokens  Coefficients\n",
       "222       bad     -1.872751\n",
       "211     awful     -1.334554\n",
       "2530   stupid     -1.175416\n",
       "441     cheap     -1.139512\n",
       "1802       no     -1.137234\n",
       "893      even     -1.091436\n",
       "3017    would     -1.047931\n",
       "3012    worst     -1.039231\n",
       "2923    waste     -1.038206\n",
       "1819  nothing     -0.973472"
      ]
     },
     "execution_count": 12,
     "metadata": {},
     "output_type": "execute_result"
    }
   ],
   "source": [
    "# smallest coefficeint\n",
    "def top_n_tokens(text, sentiment, n):\n",
    "    # create instance of the class\n",
    "    lrg = LogisticRegression(solver = 'lbfgs', max_iter = 2500, random_state = 1234)\n",
    "    cv = CountVectorizer()\n",
    "    # create dtm\n",
    "    dtm = cv.fit_transform(text)\n",
    "    # fit logistic regression model\n",
    "    lrg.fit(dtm , sentiment)\n",
    "    # get the coefficient\n",
    "    coefs = lrg.coef_[0]\n",
    "    # create the feature / column names\n",
    "    features = cv.get_feature_names_out()\n",
    "    # create a dataframe\n",
    "    df = pd.DataFrame({\"Tokens\": features, \"Coefficients\": coefs})\n",
    "    \n",
    "    # return the largest n\n",
    "    return df.nsmallest(n, 'Coefficients')\n",
    "\n",
    "\n",
    "# try with sample\n",
    "top_n_tokens(data.text, data.label, 10)"
   ]
  },
  {
   "cell_type": "markdown",
   "id": "4ee3c6bc",
   "metadata": {},
   "source": [
    "### Pre-trained ---- TextBlob"
   ]
  },
  {
   "cell_type": "code",
   "execution_count": 13,
   "id": "e1eb67af",
   "metadata": {},
   "outputs": [
    {
     "ename": "SyntaxError",
     "evalue": "invalid syntax (2003511723.py, line 2)",
     "output_type": "error",
     "traceback": [
      "\u001b[0;36m  Cell \u001b[0;32mIn[13], line 2\u001b[0;36m\u001b[0m\n\u001b[0;31m    def\u001b[0m\n\u001b[0m        ^\u001b[0m\n\u001b[0;31mSyntaxError\u001b[0m\u001b[0;31m:\u001b[0m invalid syntax\n"
     ]
    }
   ],
   "source": [
    "# define function called polarity_subjectivity\n",
    "# import Textblob\n",
    "from textblob import TextBlob\n",
    "\n",
    "def polarity_subjectivity(text=sample, print_results=False):\n",
    "    # create an instance of Textblob\n",
    "    ttb = TextBlob(text)\n",
    "    # if condition is met print results otherwise return the tuple\n",
    "    if print_results:\n",
    "        print(f\"Polarity is {round(tb.sentiment[0], 2)} and Subjectivity is {round(tb.sentiment[1], 2)}.\")\n",
    "    \n",
    "    "
   ]
  }
 ],
 "metadata": {
  "kernelspec": {
   "display_name": "Python 3 (ipykernel)",
   "language": "python",
   "name": "python3"
  },
  "language_info": {
   "codemirror_mode": {
    "name": "ipython",
    "version": 3
   },
   "file_extension": ".py",
   "mimetype": "text/x-python",
   "name": "python",
   "nbconvert_exporter": "python",
   "pygments_lexer": "ipython3",
   "version": "3.10.9"
  }
 },
 "nbformat": 4,
 "nbformat_minor": 5
}

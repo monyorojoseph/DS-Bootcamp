{
 "cells": [
  {
   "cell_type": "code",
   "execution_count": 3,
   "metadata": {},
   "outputs": [
    {
     "name": "stdout",
     "output_type": "stream",
     "text": [
      "Hey, shortcuts\n",
      "Did it work ?\n"
     ]
    }
   ],
   "source": [
    "print('Hey, shortcuts')\n",
    "print(\"Did it work ?\")"
   ]
  },
  {
   "cell_type": "code",
   "execution_count": 4,
   "metadata": {},
   "outputs": [
    {
     "name": "stdout",
     "output_type": "stream",
     "text": [
      "Shift + Enter == RUn the current cell\n"
     ]
    }
   ],
   "source": [
    "print(\"Shift + Enter == RUn the current cell\")"
   ]
  },
  {
   "cell_type": "code",
   "execution_count": 5,
   "metadata": {},
   "outputs": [
    {
     "name": "stdout",
     "output_type": "stream",
     "text": [
      "Alt + Enter == Run the current cell and insert\n"
     ]
    }
   ],
   "source": [
    "print(\"Alt + Enter == Run the current cell and insert\")"
   ]
  },
  {
   "cell_type": "code",
   "execution_count": 7,
   "metadata": {},
   "outputs": [
    {
     "name": "stdout",
     "output_type": "stream",
     "text": [
      "Ctrl + Enter == Run the selected cells\n"
     ]
    }
   ],
   "source": [
    "print(\"Ctrl + Enter == Run the selected cells\")"
   ]
  },
  {
   "cell_type": "code",
   "execution_count": 8,
   "metadata": {},
   "outputs": [
    {
     "name": "stdout",
     "output_type": "stream",
     "text": [
      "Ctrl + S == Save changes\n"
     ]
    }
   ],
   "source": [
    "print(\"Ctrl + S == Save changes\")"
   ]
  },
  {
   "cell_type": "code",
   "execution_count": 2,
   "metadata": {},
   "outputs": [
    {
     "name": "stdout",
     "output_type": "stream",
     "text": [
      "Dope shit, ESC shortcut is way cooler\n",
      "Include shortcuts like ['A', 'B', 'C', 'X', 'D, D', 'Z', 'S', 'Y', 'M', 'P']\n"
     ]
    }
   ],
   "source": [
    "print(\"Dope shit, ESC shortcut is way cooler\")\n",
    "print(\"Include shortcuts like\", [\"A\", \"B\", \"C\", \"X\", \"D, D\", \"Z\", \"S\", \"Y\", \"M\", \"P\"])"
   ]
  },
  {
   "cell_type": "code",
   "execution_count": 3,
   "metadata": {},
   "outputs": [
    {
     "name": "stdout",
     "output_type": "stream",
     "text": [
      "A for insert cell above\n"
     ]
    }
   ],
   "source": [
    "print(\"A for insert cell above\")"
   ]
  },
  {
   "cell_type": "code",
   "execution_count": 4,
   "metadata": {},
   "outputs": [
    {
     "name": "stdout",
     "output_type": "stream",
     "text": [
      "B for insert cell below\n"
     ]
    }
   ],
   "source": [
    "print(\"B for insert cell below\")"
   ]
  },
  {
   "cell_type": "code",
   "execution_count": 6,
   "metadata": {},
   "outputs": [
    {
     "name": "stdout",
     "output_type": "stream",
     "text": [
      "C for copy the selected cell\n"
     ]
    }
   ],
   "source": [
    "print(\"C for copy the selected cell\")"
   ]
  },
  {
   "cell_type": "code",
   "execution_count": 7,
   "metadata": {},
   "outputs": [
    {
     "name": "stdout",
     "output_type": "stream",
     "text": [
      "X for cut the selected cell\n"
     ]
    }
   ],
   "source": [
    "print(\"X for cut the selected cell\")"
   ]
  },
  {
   "cell_type": "code",
   "execution_count": 8,
   "metadata": {},
   "outputs": [
    {
     "name": "stdout",
     "output_type": "stream",
     "text": [
      "D, D for delete the selected cell\n"
     ]
    }
   ],
   "source": [
    "print(\"D, D for delete the selected cell\")"
   ]
  },
  {
   "cell_type": "code",
   "execution_count": 9,
   "metadata": {},
   "outputs": [
    {
     "name": "stdout",
     "output_type": "stream",
     "text": [
      "Z for undo deletion of cell\n"
     ]
    }
   ],
   "source": [
    "print(\"Z for undo deletion of cell\")"
   ]
  },
  {
   "cell_type": "code",
   "execution_count": 10,
   "metadata": {},
   "outputs": [
    {
     "name": "stdout",
     "output_type": "stream",
     "text": [
      "S for save and checkpoint\n"
     ]
    }
   ],
   "source": [
    "print(\"S for save and checkpoint\")"
   ]
  },
  {
   "cell_type": "code",
   "execution_count": 11,
   "metadata": {},
   "outputs": [
    {
     "name": "stdout",
     "output_type": "stream",
     "text": [
      "Y for change to code mode\n"
     ]
    }
   ],
   "source": [
    "print(\"Y for change to code mode\")"
   ]
  },
  {
   "cell_type": "markdown",
   "metadata": {},
   "source": [
    "### print(\"M for change to markdown\")"
   ]
  },
  {
   "cell_type": "code",
   "execution_count": 12,
   "metadata": {},
   "outputs": [
    {
     "name": "stdout",
     "output_type": "stream",
     "text": [
      "M for change to markdown\n"
     ]
    }
   ],
   "source": [
    "print(\"M for change to markdown\")"
   ]
  },
  {
   "cell_type": "code",
   "execution_count": 13,
   "metadata": {},
   "outputs": [
    {
     "name": "stdout",
     "output_type": "stream",
     "text": [
      "P for command pallete option\n"
     ]
    }
   ],
   "source": [
    "print(\"P for command pallete option\")"
   ]
  },
  {
   "cell_type": "code",
   "execution_count": 14,
   "metadata": {},
   "outputs": [
    {
     "name": "stdout",
     "output_type": "stream",
     "text": [
      "Shift + up highlight cells above\n"
     ]
    }
   ],
   "source": [
    "print(\"Shift + up highlight cells above\")"
   ]
  },
  {
   "cell_type": "code",
   "execution_count": 15,
   "metadata": {},
   "outputs": [
    {
     "name": "stdout",
     "output_type": "stream",
     "text": [
      "Shift + down highlight cells below\n"
     ]
    }
   ],
   "source": [
    "print(\"Shift + down highlight cells below\")"
   ]
  },
  {
   "cell_type": "code",
   "execution_count": 16,
   "metadata": {},
   "outputs": [
    {
     "name": "stdout",
     "output_type": "stream",
     "text": [
      "ESC + space for scroll notebook down\n"
     ]
    }
   ],
   "source": [
    "print(\"ESC + space for scroll notebook down\")"
   ]
  },
  {
   "cell_type": "code",
   "execution_count": 17,
   "metadata": {},
   "outputs": [
    {
     "name": "stdout",
     "output_type": "stream",
     "text": [
      "ESC + Shift + space for scroll notebook up\n"
     ]
    }
   ],
   "source": [
    "print(\"ESC + Shift + space for scroll notebook up\")"
   ]
  }
 ],
 "metadata": {
  "kernelspec": {
   "display_name": "Python 3 (ipykernel)",
   "language": "python",
   "name": "python3"
  },
  "language_info": {
   "codemirror_mode": {
    "name": "ipython",
    "version": 3
   },
   "file_extension": ".py",
   "mimetype": "text/x-python",
   "name": "python",
   "nbconvert_exporter": "python",
   "pygments_lexer": "ipython3",
   "version": "3.10.9"
  },
  "vscode": {
   "interpreter": {
    "hash": "83808363151904e57548a095902b51c9df38c78c6fa0b2f414a2db64078e35fd"
   }
  }
 },
 "nbformat": 4,
 "nbformat_minor": 2
}

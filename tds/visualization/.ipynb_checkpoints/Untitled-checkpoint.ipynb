{
 "cells": [
  {
   "cell_type": "code",
   "execution_count": 2,
   "id": "78cae69e",
   "metadata": {},
   "outputs": [],
   "source": [
    "# np and pd basics\n",
    "import numpy as np\n",
    "import pandas as pd"
   ]
  },
  {
   "cell_type": "markdown",
   "id": "1acf3a7f",
   "metadata": {},
   "source": [
    "#### np Arrrays"
   ]
  },
  {
   "cell_type": "code",
   "execution_count": 3,
   "id": "f413537f",
   "metadata": {},
   "outputs": [
    {
     "data": {
      "text/plain": [
       "array([[ 25, 165],\n",
       "       [ 45, 185],\n",
       "       [ 38, 147],\n",
       "       [ 39, 195]])"
      ]
     },
     "execution_count": 3,
     "metadata": {},
     "output_type": "execute_result"
    }
   ],
   "source": [
    "measurement = [[25, 165], [45, 185], [38, 147], [39, 195]]\n",
    "measurement_array = np.array(measurement)\n",
    "measurement_array"
   ]
  },
  {
   "cell_type": "code",
   "execution_count": 4,
   "id": "aaf5b9d3",
   "metadata": {},
   "outputs": [
    {
     "data": {
      "text/plain": [
       "(4, 2)"
      ]
     },
     "execution_count": 4,
     "metadata": {},
     "output_type": "execute_result"
    }
   ],
   "source": [
    "# shape\n",
    "measurement_array.shape"
   ]
  },
  {
   "cell_type": "code",
   "execution_count": 7,
   "id": "5bc623e0",
   "metadata": {},
   "outputs": [
    {
     "data": {
      "text/plain": [
       "(1, 1, 1, 3)"
      ]
     },
     "execution_count": 7,
     "metadata": {},
     "output_type": "execute_result"
    }
   ],
   "source": [
    "q6_array = np.array([[[[1, 2, 3]]]])\n",
    "q6_array.shape"
   ]
  },
  {
   "cell_type": "code",
   "execution_count": 9,
   "id": "a3b1d217",
   "metadata": {},
   "outputs": [
    {
     "data": {
      "text/plain": [
       "array([ 38, 147])"
      ]
     },
     "execution_count": 9,
     "metadata": {},
     "output_type": "execute_result"
    }
   ],
   "source": [
    "a7 = measurement_array[2, :]\n",
    "a7"
   ]
  },
  {
   "cell_type": "code",
   "execution_count": 10,
   "id": "926377f7",
   "metadata": {},
   "outputs": [
    {
     "data": {
      "text/plain": [
       "25"
      ]
     },
     "execution_count": 10,
     "metadata": {},
     "output_type": "execute_result"
    }
   ],
   "source": [
    "a8 = measurement_array[0, 0]\n",
    "a8"
   ]
  },
  {
   "cell_type": "markdown",
   "id": "641217b7",
   "metadata": {},
   "source": [
    "#### pd Dataframes"
   ]
  },
  {
   "cell_type": "code",
   "execution_count": null,
   "id": "d81d6be6",
   "metadata": {},
   "outputs": [],
   "source": [
    "# Create the data to be included in the dataframe\n",
    "participants = {\n",
    "    'gender':['female', 'female', 'male', 'female', 'female', 'male', 'male', 'male', 'female'],\n",
    "    'age': [26, 77, 39, 54, 55, 63, 28, 33, 49]\n",
    "}\n",
    "\n",
    "# create the dataframe\n",
    "df = pd.DataFrame(participants)"
   ]
  }
 ],
 "metadata": {
  "kernelspec": {
   "display_name": "Python 3 (ipykernel)",
   "language": "python",
   "name": "python3"
  },
  "language_info": {
   "codemirror_mode": {
    "name": "ipython",
    "version": 3
   },
   "file_extension": ".py",
   "mimetype": "text/x-python",
   "name": "python",
   "nbconvert_exporter": "python",
   "pygments_lexer": "ipython3",
   "version": "3.11.2"
  }
 },
 "nbformat": 4,
 "nbformat_minor": 5
}

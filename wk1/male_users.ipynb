{
 "cells": [
  {
   "cell_type": "code",
   "execution_count": 13,
   "metadata": {},
   "outputs": [],
   "source": [
    "import requests\n",
    "resp = requests.get('https://randomuser.me/api/?results=100')"
   ]
  },
  {
   "cell_type": "code",
   "execution_count": 14,
   "metadata": {},
   "outputs": [],
   "source": [
    "data = resp.json()\n",
    "results = data['results']"
   ]
  },
  {
   "cell_type": "code",
   "execution_count": 21,
   "metadata": {},
   "outputs": [
    {
     "name": "stdout",
     "output_type": "stream",
     "text": [
      "{'gender': 'male', 'name': {'title': 'Mr', 'first': 'Adriano', 'last': 'Van Kuijk'}, 'location': {'street': {'number': 9684, 'name': 'Greta Garboborg'}, 'city': 'Westernieland', 'state': 'Overijssel', 'country': 'Netherlands', 'postcode': '7738 LL', 'coordinates': {'latitude': '37.9899', 'longitude': '-101.7604'}, 'timezone': {'offset': '+11:00', 'description': 'Magadan, Solomon Islands, New Caledonia'}}, 'email': 'adriano.vankuijk@example.com', 'login': {'uuid': '0dff9ebf-405f-440c-9164-e748e409434e', 'username': 'greenelephant941', 'password': 'adults', 'salt': 'tbw0qdXh', 'md5': '9888e57b3bd67f624c6ae5da50ff0b7a', 'sha1': '6b332b5614e8cd196562e5ba6f5cc4f543d24ae1', 'sha256': '52331c0ac29b82ed7193ee6c7e5e99b372d66c3bace2e21fa6d2bf05e782b5c6'}, 'dob': {'date': '1972-06-17T09:06:31.384Z', 'age': 50}, 'registered': {'date': '2008-01-19T19:56:32.684Z', 'age': 15}, 'phone': '(0048) 760551', 'cell': '(06) 71385258', 'id': {'name': 'BSN', 'value': '58696461'}, 'picture': {'large': 'https://randomuser.me/api/portraits/men/55.jpg', 'medium': 'https://randomuser.me/api/portraits/med/men/55.jpg', 'thumbnail': 'https://randomuser.me/api/portraits/thumb/men/55.jpg'}, 'nat': 'NL'}\n"
     ]
    }
   ],
   "source": [
    "print(results[0])"
   ]
  }
 ],
 "metadata": {
  "kernelspec": {
   "display_name": "env",
   "language": "python",
   "name": "python3"
  },
  "language_info": {
   "codemirror_mode": {
    "name": "ipython",
    "version": 3
   },
   "file_extension": ".py",
   "mimetype": "text/x-python",
   "name": "python",
   "nbconvert_exporter": "python",
   "pygments_lexer": "ipython3",
   "version": "3.10.9"
  },
  "orig_nbformat": 4,
  "vscode": {
   "interpreter": {
    "hash": "83808363151904e57548a095902b51c9df38c78c6fa0b2f414a2db64078e35fd"
   }
  }
 },
 "nbformat": 4,
 "nbformat_minor": 2
}

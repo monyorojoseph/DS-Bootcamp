{
 "cells": [
  {
   "cell_type": "code",
   "execution_count": null,
   "id": "e914730e",
   "metadata": {},
   "outputs": [],
   "source": [
    "# load require libraries\n",
    "import json\n",
    "import pyforest\n",
    "import joblib   # for saving algorithm and preprocessing objects\n",
    "from sklearn.model_selection import train_test_split   # for data split\n",
    "from sklearn.preprocessing import LabelEncoder   # for preprocessing\n",
    "from sklearn.ensemble import RandomForestClassifier   # for training the algorithm\n",
    "from sklearn.ensemble import ExtraTreesClassifier   # for training the algorithm"
   ]
  },
  {
   "cell_type": "code",
   "execution_count": null,
   "id": "f271d7c3",
   "metadata": {},
   "outputs": [],
   "source": [
    "# loading data\n",
    "df = pd.read_csv('https://raw.githubusercontent.com/pplonski/datasets-for-start/master/adult/data.csv',\n",
    "                skipinitialspace=True)\n",
    "df.head()"
   ]
  },
  {
   "cell_type": "code",
   "execution_count": null,
   "id": "097cffef",
   "metadata": {},
   "outputs": [],
   "source": []
  }
 ],
 "metadata": {
  "kernelspec": {
   "display_name": "Python 3 (ipykernel)",
   "language": "python",
   "name": "python3"
  },
  "language_info": {
   "codemirror_mode": {
    "name": "ipython",
    "version": 3
   },
   "file_extension": ".py",
   "mimetype": "text/x-python",
   "name": "python",
   "nbconvert_exporter": "python",
   "pygments_lexer": "ipython3",
   "version": "3.10.9"
  }
 },
 "nbformat": 4,
 "nbformat_minor": 5
}
